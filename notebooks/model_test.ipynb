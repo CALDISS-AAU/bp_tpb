{
 "cells": [
  {
   "cell_type": "code",
   "execution_count": 15,
   "id": "5d7b58c2-9eea-4fdf-aeb5-8a8429541c38",
   "metadata": {
    "execution": {
     "iopub.execute_input": "2022-04-08T13:14:56.310117Z",
     "iopub.status.busy": "2022-04-08T13:14:56.309598Z",
     "iopub.status.idle": "2022-04-08T13:14:56.546574Z",
     "shell.execute_reply": "2022-04-08T13:14:56.545948Z",
     "shell.execute_reply.started": "2022-04-08T13:14:56.310062Z"
    },
    "tags": []
   },
   "outputs": [],
   "source": [
    "import spacy\n",
    "import os\n",
    "import json\n",
    "\n",
    "model_path = os.path.join('..', 'models', 'tpb_labeller_test', 'model-best')\n",
    "data_p = os.path.join('..', 'data', 'prodigy', 'tpb_tagset01.json')\n",
    "\n",
    "nlp = spacy.load(model_path)"
   ]
  },
  {
   "cell_type": "code",
   "execution_count": 2,
   "id": "1aa12828-24f0-4894-be91-add87fae39cf",
   "metadata": {
    "execution": {
     "iopub.execute_input": "2022-04-08T13:07:58.559971Z",
     "iopub.status.busy": "2022-04-08T13:07:58.559416Z",
     "iopub.status.idle": "2022-04-08T13:07:58.970459Z",
     "shell.execute_reply": "2022-04-08T13:07:58.969741Z",
     "shell.execute_reply.started": "2022-04-08T13:07:58.559915Z"
    }
   },
   "outputs": [],
   "source": [
    "with open(os.path.join(data_p), 'r') as f:\n",
    "    data = json.load(f)"
   ]
  },
  {
   "cell_type": "code",
   "execution_count": 21,
   "id": "5463d111-8f3b-4528-8a2f-db9dd97b86eb",
   "metadata": {
    "execution": {
     "iopub.execute_input": "2022-04-08T13:18:03.437258Z",
     "iopub.status.busy": "2022-04-08T13:18:03.436742Z",
     "iopub.status.idle": "2022-04-08T13:18:03.443856Z",
     "shell.execute_reply": "2022-04-08T13:18:03.443207Z",
     "shell.execute_reply.started": "2022-04-08T13:18:03.437201Z"
    },
    "tags": []
   },
   "outputs": [
    {
     "data": {
      "text/plain": [
       "{'id': 1468194076738600971,\n",
       " 'username': 'InfoMigrants',\n",
       " 'text': 'The Council of Europe has decided to shelve a case against Italy concerning the arbitrary detention of a group of migrants in 2011. \\n\\nThe CoE pointed out that Italy has taken steps to solve violations reported by the European Court of Human Rights.\\n\\nhttps://t.co/UJd7S5JKGe',\n",
       " 'tweet_link': 'https://twitter.com/InfoMigrants/status/1468194076738600971'}"
      ]
     },
     "execution_count": 21,
     "metadata": {},
     "output_type": "execute_result"
    }
   ],
   "source": [
    "data[2]"
   ]
  },
  {
   "cell_type": "code",
   "execution_count": 19,
   "id": "fff1d532-6d1e-44c7-95b4-cf4c364b2909",
   "metadata": {
    "execution": {
     "iopub.execute_input": "2022-04-08T13:17:58.794499Z",
     "iopub.status.busy": "2022-04-08T13:17:58.793954Z",
     "iopub.status.idle": "2022-04-08T13:17:58.803295Z",
     "shell.execute_reply": "2022-04-08T13:17:58.802261Z",
     "shell.execute_reply.started": "2022-04-08T13:17:58.794423Z"
    },
    "tags": []
   },
   "outputs": [],
   "source": [
    "doc = nlp(data[2].get('text'))"
   ]
  },
  {
   "cell_type": "code",
   "execution_count": 20,
   "id": "3a506b91-4ad7-4598-a3aa-81f60edfb347",
   "metadata": {
    "execution": {
     "iopub.execute_input": "2022-04-08T13:17:59.360792Z",
     "iopub.status.busy": "2022-04-08T13:17:59.360256Z",
     "iopub.status.idle": "2022-04-08T13:17:59.368644Z",
     "shell.execute_reply": "2022-04-08T13:17:59.367659Z",
     "shell.execute_reply.started": "2022-04-08T13:17:59.360735Z"
    },
    "tags": []
   },
   "outputs": [
    {
     "data": {
      "text/plain": [
       "{'physical stuckness': 0.08547108620405197,\n",
       " 'surrounding precarity and vulnerabilities': 0.010048448108136654,\n",
       " 'blocked mobilities': 0.39026591181755066,\n",
       " 'pandemic precarity': 0.017031576484441757,\n",
       " 'new mobilities': 0.49718308448791504}"
      ]
     },
     "execution_count": 20,
     "metadata": {},
     "output_type": "execute_result"
    }
   ],
   "source": [
    "doc.cats"
   ]
  }
 ],
 "metadata": {
  "kernelspec": {
   "display_name": "Python 3.8, tm",
   "language": "python",
   "name": "tmenv"
  },
  "language_info": {
   "codemirror_mode": {
    "name": "ipython",
    "version": 3
   },
   "file_extension": ".py",
   "mimetype": "text/x-python",
   "name": "python",
   "nbconvert_exporter": "python",
   "pygments_lexer": "ipython3",
   "version": "3.8.10"
  }
 },
 "nbformat": 4,
 "nbformat_minor": 5
}
