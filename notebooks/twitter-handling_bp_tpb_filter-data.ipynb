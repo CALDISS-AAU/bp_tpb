{
 "cells": [
  {
   "cell_type": "code",
   "execution_count": 102,
   "metadata": {
    "execution": {
     "iopub.execute_input": "2022-03-28T14:21:40.588060Z",
     "iopub.status.busy": "2022-03-28T14:21:40.587533Z",
     "iopub.status.idle": "2022-03-28T14:21:40.597546Z",
     "shell.execute_reply": "2022-03-28T14:21:40.596859Z",
     "shell.execute_reply.started": "2022-03-28T14:21:40.587999Z"
    },
    "tags": []
   },
   "outputs": [],
   "source": [
    "# Import packages\n",
    "import pandas as pd\n",
    "import ast \n",
    "import numpy as np\n",
    "import json\n",
    "import re\n",
    "import os\n",
    "\n",
    "data_dir = os.path.join('..', 'data')\n",
    "rawdata_p = os.path.join(data_dir, 'tpb_tweets_news-outlets_20211208.json')\n",
    "labelled_p = os.path.join(data_dir, 'tpb_tweets_simple-filter_labelled_20220308.json')\n",
    "out_excel = os.path.join(data_dir, 'tpb_tweets_filtered_20220328.xlsx')\n",
    "out_tagset = os.path.join(data_dir, 'prodigy', 'tpb_tagset01.json')\n",
    "\n",
    "keep_columns = ['created_at', 'name', 'username', 'text', 'tweet_link', 'covid', 'label', 'id', 'hashtags', 'urls', 'retweet_count', \n",
    "                'reply_count', 'like_count', 'quote_count', 'referenced_type', 'referenced_id']"
   ]
  },
  {
   "cell_type": "code",
   "execution_count": 40,
   "metadata": {
    "execution": {
     "iopub.execute_input": "2022-03-28T13:35:25.718340Z",
     "iopub.status.busy": "2022-03-28T13:35:25.718161Z",
     "iopub.status.idle": "2022-03-28T13:35:33.072072Z",
     "shell.execute_reply": "2022-03-28T13:35:33.071385Z",
     "shell.execute_reply.started": "2022-03-28T13:35:25.718322Z"
    },
    "tags": []
   },
   "outputs": [],
   "source": [
    "# load data\n",
    "\n",
    "with open(rawdata_p, \"r\") as f:\n",
    "    all_data = json.load(f)\n",
    "    \n",
    "labelled_df = pd.read_json(labelled_p)"
   ]
  },
  {
   "cell_type": "code",
   "execution_count": 41,
   "metadata": {
    "execution": {
     "iopub.execute_input": "2022-03-28T13:35:33.073359Z",
     "iopub.status.busy": "2022-03-28T13:35:33.073174Z",
     "iopub.status.idle": "2022-03-28T13:35:33.080594Z",
     "shell.execute_reply": "2022-03-28T13:35:33.080140Z",
     "shell.execute_reply.started": "2022-03-28T13:35:33.073341Z"
    },
    "tags": []
   },
   "outputs": [
    {
     "data": {
      "text/html": [
       "<div>\n",
       "<style scoped>\n",
       "    .dataframe tbody tr th:only-of-type {\n",
       "        vertical-align: middle;\n",
       "    }\n",
       "\n",
       "    .dataframe tbody tr th {\n",
       "        vertical-align: top;\n",
       "    }\n",
       "\n",
       "    .dataframe thead th {\n",
       "        text-align: right;\n",
       "    }\n",
       "</style>\n",
       "<table border=\"1\" class=\"dataframe\">\n",
       "  <thead>\n",
       "    <tr style=\"text-align: right;\">\n",
       "      <th></th>\n",
       "      <th>created_at</th>\n",
       "      <th>name</th>\n",
       "      <th>id</th>\n",
       "      <th>label</th>\n",
       "    </tr>\n",
       "  </thead>\n",
       "  <tbody>\n",
       "    <tr>\n",
       "      <th>0</th>\n",
       "      <td>2021-12-02 15:33:00+00:00</td>\n",
       "      <td>InfoMigrants</td>\n",
       "      <td>1466430204302217232</td>\n",
       "      <td>blocked mobilities</td>\n",
       "    </tr>\n",
       "    <tr>\n",
       "      <th>1</th>\n",
       "      <td>2021-12-01 10:29:05+00:00</td>\n",
       "      <td>The New York Times</td>\n",
       "      <td>1465991334184071169</td>\n",
       "      <td>blocked mobilities</td>\n",
       "    </tr>\n",
       "    <tr>\n",
       "      <th>2</th>\n",
       "      <td>2021-09-24 14:57:00+00:00</td>\n",
       "      <td>InfoMigrants</td>\n",
       "      <td>1441416381417893889</td>\n",
       "      <td>blocked mobilities</td>\n",
       "    </tr>\n",
       "    <tr>\n",
       "      <th>3</th>\n",
       "      <td>2021-08-24 16:12:00+00:00</td>\n",
       "      <td>InfoMigrants</td>\n",
       "      <td>1430201232065536004</td>\n",
       "      <td>blocked mobilities</td>\n",
       "    </tr>\n",
       "    <tr>\n",
       "      <th>4</th>\n",
       "      <td>2021-07-18 20:11:29+00:00</td>\n",
       "      <td>The New York Times</td>\n",
       "      <td>1416853150896726025</td>\n",
       "      <td>blocked mobilities</td>\n",
       "    </tr>\n",
       "  </tbody>\n",
       "</table>\n",
       "</div>"
      ],
      "text/plain": [
       "                 created_at                name                   id  \\\n",
       "0 2021-12-02 15:33:00+00:00        InfoMigrants  1466430204302217232   \n",
       "1 2021-12-01 10:29:05+00:00  The New York Times  1465991334184071169   \n",
       "2 2021-09-24 14:57:00+00:00        InfoMigrants  1441416381417893889   \n",
       "3 2021-08-24 16:12:00+00:00        InfoMigrants  1430201232065536004   \n",
       "4 2021-07-18 20:11:29+00:00  The New York Times  1416853150896726025   \n",
       "\n",
       "                label  \n",
       "0  blocked mobilities  \n",
       "1  blocked mobilities  \n",
       "2  blocked mobilities  \n",
       "3  blocked mobilities  \n",
       "4  blocked mobilities  "
      ]
     },
     "execution_count": 41,
     "metadata": {},
     "output_type": "execute_result"
    }
   ],
   "source": [
    "labelled_df.head()"
   ]
  },
  {
   "cell_type": "code",
   "execution_count": 42,
   "metadata": {
    "execution": {
     "iopub.execute_input": "2022-03-28T13:35:33.081482Z",
     "iopub.status.busy": "2022-03-28T13:35:33.081305Z",
     "iopub.status.idle": "2022-03-28T13:35:33.135894Z",
     "shell.execute_reply": "2022-03-28T13:35:33.134718Z",
     "shell.execute_reply.started": "2022-03-28T13:35:33.081465Z"
    },
    "tags": []
   },
   "outputs": [],
   "source": [
    "regex_string_covid = r'\\bpandemic\\b|\\bcovid\\b|\\bcovid-19\\b|\\bcorona|\\bvaccine|\\bquarantine|\\b#pandemic\\b|\\b#covid\\b|\\b#covid-19\\b|\\b#corona|\\b#vaccine|\\b#quarantine'\n",
    "regex_string_migrat = r'\\bmigrant|\\bimmigrant|\\brefugee|\\btransit|\\bdisplacement\\b|\\bdisplaced\\b|\\bborder|\\breturn|\\bpushback|\\b(pushed back)\\b|\\bboat|\\bdrown\\b|\\bhunger|\\b#migrant|\\b#immigrant|\\b#refugee|\\b#transit|\\b#displacement\\b|\\b#displaced\\b|\\b#border|\\b#return|\\b#pushback|\\b#boat|\\b#drown\\b|\\b#hunger'\n",
    "regex_string_geos = r'\\blebanon\\b|\\blebanese\\b|\\bsyria|\\bjordan|\\biraq|\\bgreece\\b|\\bgreek|\\bturkey\\b|\\bturkish\\b|\\bcyprus\\b|\\bcypriot|\\bmediterranean\\b|\\bEU\\b|\\btunisia|\\bitaly\\b|\\bitalian\\b|\\beuropean\\b|\\b#lebanon\\b|\\b#lebanese\\b|\\b#syria|\\b#jordan|\\b#iraq|\\b#greece\\b|\\b#greek|\\b#turkey\\b|\\b#turkish\\b|\\b#cyprus\\b|\\b#cypriot|\\b#mediterranean\\b|\\b#EU\\b|\\b#tunisia|\\b#italy\\b|\\b#italian\\b|\\b#european\\b'\n",
    "\n",
    "regex_covid = re.compile(regex_string_covid, re.IGNORECASE)\n",
    "regex_migrat = re.compile(regex_string_migrat, re.IGNORECASE)\n",
    "regex_geos = re.compile(regex_string_geos, re.IGNORECASE)"
   ]
  },
  {
   "cell_type": "code",
   "execution_count": 43,
   "metadata": {
    "execution": {
     "iopub.execute_input": "2022-03-28T13:35:33.138415Z",
     "iopub.status.busy": "2022-03-28T13:35:33.137971Z",
     "iopub.status.idle": "2022-03-28T13:35:39.478381Z",
     "shell.execute_reply": "2022-03-28T13:35:39.477779Z",
     "shell.execute_reply.started": "2022-03-28T13:35:33.138366Z"
    },
    "tags": []
   },
   "outputs": [
    {
     "data": {
      "text/plain": [
       "3735"
      ]
     },
     "execution_count": 43,
     "metadata": {},
     "output_type": "execute_result"
    }
   ],
   "source": [
    "## immigration and geos\n",
    "data_filter_ig = []\n",
    "\n",
    "for entry in all_data.get('data'):\n",
    "    if regex_migrat.search(entry.get('text')) and regex_geos.search(entry.get('text')):\n",
    "        data_filter_ig.append(entry)\n",
    "len(data_filter_ig)"
   ]
  },
  {
   "cell_type": "code",
   "execution_count": 44,
   "metadata": {
    "execution": {
     "iopub.execute_input": "2022-03-28T13:35:39.479369Z",
     "iopub.status.busy": "2022-03-28T13:35:39.479214Z",
     "iopub.status.idle": "2022-03-28T13:35:39.517519Z",
     "shell.execute_reply": "2022-03-28T13:35:39.516683Z",
     "shell.execute_reply.started": "2022-03-28T13:35:39.479353Z"
    },
    "tags": []
   },
   "outputs": [],
   "source": [
    "## adding covid variable\n",
    "\n",
    "for entry in data_filter_ig:\n",
    "    if regex_covid.search(entry.get('text')):\n",
    "        entry['covid'] = 1\n",
    "    else:\n",
    "        entry['covid'] = 0"
   ]
  },
  {
   "cell_type": "code",
   "execution_count": 45,
   "metadata": {
    "execution": {
     "iopub.execute_input": "2022-03-28T13:35:39.519202Z",
     "iopub.status.busy": "2022-03-28T13:35:39.519062Z",
     "iopub.status.idle": "2022-03-28T13:35:39.596553Z",
     "shell.execute_reply": "2022-03-28T13:35:39.595718Z",
     "shell.execute_reply.started": "2022-03-28T13:35:39.519187Z"
    },
    "tags": []
   },
   "outputs": [],
   "source": [
    "# Convert data to df\n",
    "\n",
    "df_tweets = pd.DataFrame.from_records(data_filter_ig)\n",
    "df_users = pd.DataFrame.from_records(all_data.get('includes').get('users'))"
   ]
  },
  {
   "cell_type": "code",
   "execution_count": 46,
   "metadata": {
    "execution": {
     "iopub.execute_input": "2022-03-28T13:35:39.597836Z",
     "iopub.status.busy": "2022-03-28T13:35:39.597666Z",
     "iopub.status.idle": "2022-03-28T13:35:39.605095Z",
     "shell.execute_reply": "2022-03-28T13:35:39.604537Z",
     "shell.execute_reply.started": "2022-03-28T13:35:39.597818Z"
    },
    "tags": []
   },
   "outputs": [],
   "source": [
    "# Functions for unnesting\n",
    "\n",
    "def fix_dicts(string):\n",
    "    if string is np.nan:\n",
    "        return(string)\n",
    "    if not isinstance(string, dict):\n",
    "        string_as_dict = ast.literal_eval(string)\n",
    "        return(string_as_dict)\n",
    "    else:\n",
    "        return(string)\n",
    "\n",
    "def unnest_hashtags(entities):\n",
    "    try:\n",
    "        hashtags = list(entities.get('hashtags'))\n",
    "    except:\n",
    "        return(list())\n",
    "    if isinstance(hashtags, list):\n",
    "        hashtags_list = [hashtag.get('tag') for hashtag in hashtags]\n",
    "        return(hashtags_list)\n",
    "    else:\n",
    "        return\n",
    "    \n",
    "def unnest_mentions(entities):\n",
    "    try:\n",
    "        mentions = list(entities.get('mentions'))\n",
    "    except:\n",
    "        return(list())\n",
    "    if isinstance(mentions, list):\n",
    "        mentions_list = [mention.get('username') for mention in mentions]\n",
    "        return(mentions_list)\n",
    "    else:\n",
    "        return\n",
    "\n",
    "def unnest_urls(entities):\n",
    "    try:\n",
    "        urls = list(entities.get('urls'))\n",
    "    except:\n",
    "        return(list())\n",
    "    if isinstance(urls, list):\n",
    "        urls_list = [url.get('url') for url in urls]\n",
    "        return(urls_list)\n",
    "    else:\n",
    "        return\n",
    "    \n",
    "def unnest_cashtags(entities):\n",
    "    try:\n",
    "        cashtags = list(entities.get('cashtags'))\n",
    "    except:\n",
    "        return(list())\n",
    "    if isinstance(cashtags, list):\n",
    "        cashtags_list = [cashtag.get('tag') for cashtag in cashtags]\n",
    "        return(cashtags_list)\n",
    "    else:\n",
    "        return"
   ]
  },
  {
   "cell_type": "code",
   "execution_count": 47,
   "metadata": {
    "execution": {
     "iopub.execute_input": "2022-03-28T13:35:39.605920Z",
     "iopub.status.busy": "2022-03-28T13:35:39.605775Z",
     "iopub.status.idle": "2022-03-28T13:35:39.622384Z",
     "shell.execute_reply": "2022-03-28T13:35:39.621798Z",
     "shell.execute_reply.started": "2022-03-28T13:35:39.605903Z"
    },
    "tags": []
   },
   "outputs": [],
   "source": [
    "# Functions for wrangling data frame\n",
    "\n",
    "def wrangle_df_tweets(df, drop_cols):\n",
    "    \n",
    "    # Fix dictionaries\n",
    "    df['public_metrics'] = df['public_metrics'].apply(fix_dicts)\n",
    "    df['entities'] = df['entities'].apply(fix_dicts)\n",
    "    \n",
    "    # Unnest\n",
    "    df = pd.concat([df, pd.json_normalize(df['public_metrics'])], axis = 1)\n",
    "    df['hashtags'] = df['entities'].apply(unnest_hashtags)\n",
    "    df['mentions'] = df['entities'].apply(unnest_mentions)\n",
    "    df['urls'] = df['entities'].apply(unnest_urls)\n",
    "    df['cashtags'] = df['entities'].apply(unnest_cashtags)\n",
    "    df = df.loc[:, ~df.columns.isin(drop_cols)]\n",
    "    \n",
    "    # Referenced tweets\n",
    "    \n",
    "    \n",
    "    \n",
    "    return(df)\n",
    "\n",
    "def wrangle_df_users(df, drop_cols):\n",
    "    \n",
    "    # Fix dicts\n",
    "    df['public_metrics'] = df['public_metrics'].apply(fix_dicts)\n",
    "    \n",
    "    # Unnest\n",
    "    df = pd.concat([df, pd.json_normalize(df['public_metrics'])], axis = 1)\n",
    "    df = df.rename(columns = {'id': 'author_id', 'created_at': 'author_created_at'})\n",
    "    df = df.loc[:, ~df.columns.isin(drop_cols)]\n",
    "    \n",
    "    return(df)"
   ]
  },
  {
   "cell_type": "code",
   "execution_count": 95,
   "metadata": {
    "execution": {
     "iopub.execute_input": "2022-03-28T14:17:46.558497Z",
     "iopub.status.busy": "2022-03-28T14:17:46.557959Z",
     "iopub.status.idle": "2022-03-28T14:17:46.669636Z",
     "shell.execute_reply": "2022-03-28T14:17:46.669007Z",
     "shell.execute_reply.started": "2022-03-28T14:17:46.558442Z"
    },
    "tags": []
   },
   "outputs": [],
   "source": [
    "# Wrangle data frame\n",
    "\n",
    "drop_cols = ['public_metrics', 'entities']\n",
    "\n",
    "df_tweets_unnest = wrangle_df_tweets(df_tweets, drop_cols)\n",
    "df_users_unnest = wrangle_df_users(df_users, drop_cols)"
   ]
  },
  {
   "cell_type": "code",
   "execution_count": 96,
   "metadata": {
    "execution": {
     "iopub.execute_input": "2022-03-28T14:17:59.429684Z",
     "iopub.status.busy": "2022-03-28T14:17:59.429502Z",
     "iopub.status.idle": "2022-03-28T14:17:59.451468Z",
     "shell.execute_reply": "2022-03-28T14:17:59.450887Z",
     "shell.execute_reply.started": "2022-03-28T14:17:59.429666Z"
    }
   },
   "outputs": [],
   "source": [
    "# Add referenced tweet info\n",
    "df_tweets_unnest = df_tweets_unnest.explode('referenced_tweets')\n",
    "df_tweets_unnest['referenced_type'] = np.nan\n",
    "df_tweets_unnest['referenced_id'] = np.nan\n",
    "df_tweets_unnest.loc[df_tweets_unnest['referenced_tweets'].notna(), 'referenced_type'] = df_tweets_unnest.loc[df_tweets_unnest['referenced_tweets'].notna(), 'referenced_tweets'].apply(lambda entry: entry.get('type'))\n",
    "df_tweets_unnest.loc[df_tweets_unnest['referenced_tweets'].notna(), 'referenced_id'] = df_tweets_unnest.loc[df_tweets_unnest['referenced_tweets'].notna(), 'referenced_tweets'].apply(lambda entry: entry.get('id'))"
   ]
  },
  {
   "cell_type": "code",
   "execution_count": 97,
   "metadata": {
    "execution": {
     "iopub.execute_input": "2022-03-28T14:17:59.452526Z",
     "iopub.status.busy": "2022-03-28T14:17:59.452369Z",
     "iopub.status.idle": "2022-03-28T14:18:01.222969Z",
     "shell.execute_reply": "2022-03-28T14:18:01.221693Z",
     "shell.execute_reply.started": "2022-03-28T14:17:59.452509Z"
    },
    "tags": []
   },
   "outputs": [],
   "source": [
    "# Combine data with pd.merge\n",
    "\n",
    "df_combined = pd.merge(df_tweets_unnest, df_users_unnest, how = 'left', left_on = 'author_id', right_on = 'author_id').drop_duplicates(subset = ['id'])"
   ]
  },
  {
   "cell_type": "code",
   "execution_count": 98,
   "metadata": {
    "execution": {
     "iopub.execute_input": "2022-03-28T14:18:01.223922Z",
     "iopub.status.busy": "2022-03-28T14:18:01.223748Z",
     "iopub.status.idle": "2022-03-28T14:18:01.233353Z",
     "shell.execute_reply": "2022-03-28T14:18:01.232763Z",
     "shell.execute_reply.started": "2022-03-28T14:18:01.223904Z"
    },
    "tags": []
   },
   "outputs": [],
   "source": [
    "# Recoding and adding variables\n",
    "df_combined['covid'] = df_combined['covid'].astype(bool)\n",
    "df_combined['tweet_link'] = 'https://twitter.com/' + df_combined['username'] + '/status/' + df_combined['id']\n",
    "df_combined['id'] = df_combined['id'].astype('int64')"
   ]
  },
  {
   "cell_type": "code",
   "execution_count": 99,
   "metadata": {
    "execution": {
     "iopub.execute_input": "2022-03-28T14:18:01.234160Z",
     "iopub.status.busy": "2022-03-28T14:18:01.234024Z",
     "iopub.status.idle": "2022-03-28T14:18:01.271432Z",
     "shell.execute_reply": "2022-03-28T14:18:01.270591Z",
     "shell.execute_reply.started": "2022-03-28T14:18:01.234144Z"
    },
    "tags": []
   },
   "outputs": [],
   "source": [
    "# Adding existing labels\n",
    "\n",
    "df_combined = pd.merge(df_combined, labelled_df.loc[:, ['id', 'label']], on = 'id', how = 'left').loc[:, keep_columns]"
   ]
  },
  {
   "cell_type": "code",
   "execution_count": 100,
   "metadata": {
    "execution": {
     "iopub.execute_input": "2022-03-28T14:18:01.272748Z",
     "iopub.status.busy": "2022-03-28T14:18:01.272603Z",
     "iopub.status.idle": "2022-03-28T14:18:01.285550Z",
     "shell.execute_reply": "2022-03-28T14:18:01.285040Z",
     "shell.execute_reply.started": "2022-03-28T14:18:01.272730Z"
    },
    "tags": []
   },
   "outputs": [
    {
     "data": {
      "text/html": [
       "<div>\n",
       "<style scoped>\n",
       "    .dataframe tbody tr th:only-of-type {\n",
       "        vertical-align: middle;\n",
       "    }\n",
       "\n",
       "    .dataframe tbody tr th {\n",
       "        vertical-align: top;\n",
       "    }\n",
       "\n",
       "    .dataframe thead th {\n",
       "        text-align: right;\n",
       "    }\n",
       "</style>\n",
       "<table border=\"1\" class=\"dataframe\">\n",
       "  <thead>\n",
       "    <tr style=\"text-align: right;\">\n",
       "      <th></th>\n",
       "      <th>created_at</th>\n",
       "      <th>name</th>\n",
       "      <th>username</th>\n",
       "      <th>text</th>\n",
       "      <th>tweet_link</th>\n",
       "      <th>label</th>\n",
       "      <th>id</th>\n",
       "      <th>hashtags</th>\n",
       "      <th>urls</th>\n",
       "      <th>retweet_count</th>\n",
       "      <th>reply_count</th>\n",
       "      <th>like_count</th>\n",
       "      <th>quote_count</th>\n",
       "      <th>referenced_type</th>\n",
       "      <th>referenced_id</th>\n",
       "    </tr>\n",
       "  </thead>\n",
       "  <tbody>\n",
       "    <tr>\n",
       "      <th>0</th>\n",
       "      <td>2021-12-07T22:01:47.000Z</td>\n",
       "      <td>Al Jazeera English</td>\n",
       "      <td>AJEnglish</td>\n",
       "      <td>RT @AJEnglish: Part of one of the world’s olde...</td>\n",
       "      <td>https://twitter.com/AJEnglish/status/146833998...</td>\n",
       "      <td>NaN</td>\n",
       "      <td>1468339986059730949</td>\n",
       "      <td>[]</td>\n",
       "      <td>[]</td>\n",
       "      <td>192</td>\n",
       "      <td>0</td>\n",
       "      <td>0</td>\n",
       "      <td>0</td>\n",
       "      <td>retweeted</td>\n",
       "      <td>1468279014120845313</td>\n",
       "    </tr>\n",
       "    <tr>\n",
       "      <th>1</th>\n",
       "      <td>2021-12-07T17:59:30.000Z</td>\n",
       "      <td>Al Jazeera English</td>\n",
       "      <td>AJEnglish</td>\n",
       "      <td>Part of one of the world’s oldest surviving wo...</td>\n",
       "      <td>https://twitter.com/AJEnglish/status/146827901...</td>\n",
       "      <td>NaN</td>\n",
       "      <td>1468279014120845313</td>\n",
       "      <td>[]</td>\n",
       "      <td>[https://t.co/zOEesS0p28]</td>\n",
       "      <td>192</td>\n",
       "      <td>17</td>\n",
       "      <td>491</td>\n",
       "      <td>16</td>\n",
       "      <td>NaN</td>\n",
       "      <td>NaN</td>\n",
       "    </tr>\n",
       "    <tr>\n",
       "      <th>2</th>\n",
       "      <td>2021-12-07T15:19:58.000Z</td>\n",
       "      <td>Al Jazeera English</td>\n",
       "      <td>AJEnglish</td>\n",
       "      <td>RT @AJEnglish: Libyan authorities get support ...</td>\n",
       "      <td>https://twitter.com/AJEnglish/status/146823886...</td>\n",
       "      <td>NaN</td>\n",
       "      <td>1468238862770216960</td>\n",
       "      <td>[]</td>\n",
       "      <td>[]</td>\n",
       "      <td>60</td>\n",
       "      <td>0</td>\n",
       "      <td>0</td>\n",
       "      <td>0</td>\n",
       "      <td>retweeted</td>\n",
       "      <td>1468139466946535425</td>\n",
       "    </tr>\n",
       "    <tr>\n",
       "      <th>3</th>\n",
       "      <td>2021-12-07T14:25:45.000Z</td>\n",
       "      <td>Al Jazeera English</td>\n",
       "      <td>AJEnglish</td>\n",
       "      <td>\"Funds from the EU and member states, sometime...</td>\n",
       "      <td>https://twitter.com/AJEnglish/status/146822522...</td>\n",
       "      <td>NaN</td>\n",
       "      <td>1468225220125331467</td>\n",
       "      <td>[AJOpinion]</td>\n",
       "      <td>[https://t.co/1lv9uCE73H]</td>\n",
       "      <td>18</td>\n",
       "      <td>4</td>\n",
       "      <td>40</td>\n",
       "      <td>1</td>\n",
       "      <td>NaN</td>\n",
       "      <td>NaN</td>\n",
       "    </tr>\n",
       "    <tr>\n",
       "      <th>4</th>\n",
       "      <td>2021-12-07T12:22:00.000Z</td>\n",
       "      <td>InfoMigrants</td>\n",
       "      <td>InfoMigrants</td>\n",
       "      <td>The Council of Europe has decided to shelve a ...</td>\n",
       "      <td>https://twitter.com/InfoMigrants/status/146819...</td>\n",
       "      <td>NaN</td>\n",
       "      <td>1468194076738600971</td>\n",
       "      <td>[]</td>\n",
       "      <td>[https://t.co/UJd7S5JKGe]</td>\n",
       "      <td>0</td>\n",
       "      <td>0</td>\n",
       "      <td>0</td>\n",
       "      <td>0</td>\n",
       "      <td>NaN</td>\n",
       "      <td>NaN</td>\n",
       "    </tr>\n",
       "  </tbody>\n",
       "</table>\n",
       "</div>"
      ],
      "text/plain": [
       "                 created_at                name      username  \\\n",
       "0  2021-12-07T22:01:47.000Z  Al Jazeera English     AJEnglish   \n",
       "1  2021-12-07T17:59:30.000Z  Al Jazeera English     AJEnglish   \n",
       "2  2021-12-07T15:19:58.000Z  Al Jazeera English     AJEnglish   \n",
       "3  2021-12-07T14:25:45.000Z  Al Jazeera English     AJEnglish   \n",
       "4  2021-12-07T12:22:00.000Z        InfoMigrants  InfoMigrants   \n",
       "\n",
       "                                                text  \\\n",
       "0  RT @AJEnglish: Part of one of the world’s olde...   \n",
       "1  Part of one of the world’s oldest surviving wo...   \n",
       "2  RT @AJEnglish: Libyan authorities get support ...   \n",
       "3  \"Funds from the EU and member states, sometime...   \n",
       "4  The Council of Europe has decided to shelve a ...   \n",
       "\n",
       "                                          tweet_link label  \\\n",
       "0  https://twitter.com/AJEnglish/status/146833998...   NaN   \n",
       "1  https://twitter.com/AJEnglish/status/146827901...   NaN   \n",
       "2  https://twitter.com/AJEnglish/status/146823886...   NaN   \n",
       "3  https://twitter.com/AJEnglish/status/146822522...   NaN   \n",
       "4  https://twitter.com/InfoMigrants/status/146819...   NaN   \n",
       "\n",
       "                    id     hashtags                       urls  retweet_count  \\\n",
       "0  1468339986059730949           []                         []            192   \n",
       "1  1468279014120845313           []  [https://t.co/zOEesS0p28]            192   \n",
       "2  1468238862770216960           []                         []             60   \n",
       "3  1468225220125331467  [AJOpinion]  [https://t.co/1lv9uCE73H]             18   \n",
       "4  1468194076738600971           []  [https://t.co/UJd7S5JKGe]              0   \n",
       "\n",
       "   reply_count  like_count  quote_count referenced_type        referenced_id  \n",
       "0            0           0            0       retweeted  1468279014120845313  \n",
       "1           17         491           16             NaN                  NaN  \n",
       "2            0           0            0       retweeted  1468139466946535425  \n",
       "3            4          40            1             NaN                  NaN  \n",
       "4            0           0            0             NaN                  NaN  "
      ]
     },
     "execution_count": 100,
     "metadata": {},
     "output_type": "execute_result"
    }
   ],
   "source": [
    "df_combined.head()"
   ]
  },
  {
   "cell_type": "code",
   "execution_count": 101,
   "metadata": {
    "execution": {
     "iopub.execute_input": "2022-03-28T14:18:01.286438Z",
     "iopub.status.busy": "2022-03-28T14:18:01.286290Z",
     "iopub.status.idle": "2022-03-28T14:18:01.305596Z",
     "shell.execute_reply": "2022-03-28T14:18:01.305013Z",
     "shell.execute_reply.started": "2022-03-28T14:18:01.286421Z"
    },
    "tags": []
   },
   "outputs": [
    {
     "data": {
      "text/plain": [
       "(3745, 15)"
      ]
     },
     "execution_count": 101,
     "metadata": {},
     "output_type": "execute_result"
    }
   ],
   "source": [
    "df_combined.shape"
   ]
  },
  {
   "cell_type": "code",
   "execution_count": 103,
   "metadata": {
    "execution": {
     "iopub.execute_input": "2022-03-28T14:22:24.753613Z",
     "iopub.status.busy": "2022-03-28T14:22:24.753124Z",
     "iopub.status.idle": "2022-03-28T14:22:24.773627Z",
     "shell.execute_reply": "2022-03-28T14:22:24.773022Z",
     "shell.execute_reply.started": "2022-03-28T14:22:24.753564Z"
    },
    "tags": []
   },
   "outputs": [],
   "source": [
    "# Export prodigy set 01\n",
    "\n",
    "df_tagset = df_combined.loc[df_combined['referenced_type'].isna(), ['id', 'username', 'text', 'tweet_link']]\n",
    "df_tagset.to_json(out_tagset, orient = 'records')"
   ]
  },
  {
   "cell_type": "code",
   "execution_count": null,
   "metadata": {},
   "outputs": [],
   "source": []
  }
 ],
 "metadata": {
  "kernelspec": {
   "display_name": "Python 3.8, tm",
   "language": "python",
   "name": "tmenv"
  },
  "language_info": {
   "codemirror_mode": {
    "name": "ipython",
    "version": 3
   },
   "file_extension": ".py",
   "mimetype": "text/x-python",
   "name": "python",
   "nbconvert_exporter": "python",
   "pygments_lexer": "ipython3",
   "version": "3.8.10"
  }
 },
 "nbformat": 4,
 "nbformat_minor": 4
}
