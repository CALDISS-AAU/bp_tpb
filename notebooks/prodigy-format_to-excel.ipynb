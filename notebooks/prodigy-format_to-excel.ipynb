{
 "cells": [
  {
   "cell_type": "code",
   "execution_count": 2,
   "id": "36c469c4-da1a-4308-b545-06a014e08d3f",
   "metadata": {
    "execution": {
     "iopub.execute_input": "2022-04-27T10:45:43.877424Z",
     "iopub.status.busy": "2022-04-27T10:45:43.876821Z",
     "iopub.status.idle": "2022-04-27T10:45:43.886961Z",
     "shell.execute_reply": "2022-04-27T10:45:43.885295Z",
     "shell.execute_reply.started": "2022-04-27T10:45:43.877366Z"
    },
    "tags": []
   },
   "outputs": [],
   "source": [
    "import json\n",
    "import pandas as pd\n",
    "import os\n",
    "\n",
    "data_raw = \"tpb_tweets_filtered_20220328.json\"\n",
    "data_in = 'tpb_tweets_simple-filter_labelled-prodigy-format_20220408.json'\n",
    "data_out_n = 'tpb_tweets_labelled.xlsx'\n",
    "\n",
    "#label_cols = [\"Physical stuckness and Covid\",\"Pandemic precarity\",\"Blocked and derailed mobilities because of Covid\",\"New mobilities in relation to Covid\",\"Other\"]\n",
    "label_cols = ['blocked mobilities', 'new mobilities', 'pandemic precarity','physical stuckness', 'surrounding precarity and vulnerabilities']\n",
    "\n",
    "data_d = os.path.join('..', 'data')\n",
    "\n",
    "data_raw_p = os.path.join(data_d, data_raw)\n",
    "data_in_p = os.path.join(data_d, data_in)\n",
    "data_out_p = os.path.join(data_d, data_out_n)"
   ]
  },
  {
   "cell_type": "code",
   "execution_count": 3,
   "id": "20550b40-db13-45f2-b8e0-c72d2428a61b",
   "metadata": {
    "execution": {
     "iopub.execute_input": "2022-04-27T10:45:44.312664Z",
     "iopub.status.busy": "2022-04-27T10:45:44.312128Z",
     "iopub.status.idle": "2022-04-27T10:45:44.352499Z",
     "shell.execute_reply": "2022-04-27T10:45:44.351359Z",
     "shell.execute_reply.started": "2022-04-27T10:45:44.312611Z"
    },
    "tags": []
   },
   "outputs": [],
   "source": [
    "with open(data_raw_p, 'r') as f:\n",
    "    data = json.load(f)"
   ]
  },
  {
   "cell_type": "code",
   "execution_count": 4,
   "id": "a8b1fd02-cc3e-4978-948a-4c65e3c2cf8b",
   "metadata": {
    "execution": {
     "iopub.execute_input": "2022-04-27T10:45:44.736621Z",
     "iopub.status.busy": "2022-04-27T10:45:44.736044Z",
     "iopub.status.idle": "2022-04-27T10:45:44.766468Z",
     "shell.execute_reply": "2022-04-27T10:45:44.765160Z",
     "shell.execute_reply.started": "2022-04-27T10:45:44.736565Z"
    },
    "tags": []
   },
   "outputs": [],
   "source": [
    "df_raw = pd.DataFrame.from_records(data).drop_duplicates('id')"
   ]
  },
  {
   "cell_type": "code",
   "execution_count": 5,
   "id": "5ba72ef3-a14a-46c2-864a-756472d539bf",
   "metadata": {
    "execution": {
     "iopub.execute_input": "2022-04-27T10:45:45.279407Z",
     "iopub.status.busy": "2022-04-27T10:45:45.278853Z",
     "iopub.status.idle": "2022-04-27T10:45:45.300869Z",
     "shell.execute_reply": "2022-04-27T10:45:45.300143Z",
     "shell.execute_reply.started": "2022-04-27T10:45:45.279352Z"
    },
    "tags": []
   },
   "outputs": [],
   "source": [
    "with open(data_in_p, 'r') as f:\n",
    "    data = json.load(f)"
   ]
  },
  {
   "cell_type": "code",
   "execution_count": 6,
   "id": "914e5210-59ad-41db-8682-6b88ba53916c",
   "metadata": {
    "execution": {
     "iopub.execute_input": "2022-04-27T10:45:45.712025Z",
     "iopub.status.busy": "2022-04-27T10:45:45.711452Z",
     "iopub.status.idle": "2022-04-27T10:45:45.728019Z",
     "shell.execute_reply": "2022-04-27T10:45:45.727074Z",
     "shell.execute_reply.started": "2022-04-27T10:45:45.711966Z"
    },
    "tags": []
   },
   "outputs": [],
   "source": [
    "df_in = pd.DataFrame.from_records(data).drop_duplicates(subset = 'id')"
   ]
  },
  {
   "cell_type": "code",
   "execution_count": 7,
   "id": "50a1ecf3-d4b7-41a0-a7c7-b0874e2e0e46",
   "metadata": {
    "execution": {
     "iopub.execute_input": "2022-04-27T10:45:46.153329Z",
     "iopub.status.busy": "2022-04-27T10:45:46.152741Z",
     "iopub.status.idle": "2022-04-27T10:45:46.181621Z",
     "shell.execute_reply": "2022-04-27T10:45:46.180790Z",
     "shell.execute_reply.started": "2022-04-27T10:45:46.153256Z"
    },
    "tags": []
   },
   "outputs": [],
   "source": [
    "df_in = df_in.explode('accept')\n",
    "df_in['accepted'] = 1\n",
    "df_in_labeldummies = pd.merge(df_raw, df_in.pivot(index = 'id', columns=\"accept\", values=\"accepted\").reset_index().loc[:, ['id'] + label_cols].fillna(0), how = 'inner', on = 'id')"
   ]
  },
  {
   "cell_type": "code",
   "execution_count": 8,
   "id": "57a23bab-8165-4174-b02a-1b3ffe824de7",
   "metadata": {
    "execution": {
     "iopub.execute_input": "2022-04-27T10:45:46.471913Z",
     "iopub.status.busy": "2022-04-27T10:45:46.471402Z",
     "iopub.status.idle": "2022-04-27T10:45:46.478197Z",
     "shell.execute_reply": "2022-04-27T10:45:46.476905Z",
     "shell.execute_reply.started": "2022-04-27T10:45:46.471860Z"
    },
    "tags": []
   },
   "outputs": [],
   "source": [
    "columns_neworder = ['created_at', 'name', 'username', 'text', 'tweet_link', 'covid'] + label_cols + ['id', 'hashtags', 'urls', 'retweet_count', 'reply_count',\n",
    "                                                                                                     'like_count', 'quote_count', 'referenced_type', 'referenced_id']"
   ]
  },
  {
   "cell_type": "code",
   "execution_count": 9,
   "id": "99606058-0642-4306-84b7-a741a22b60c1",
   "metadata": {
    "execution": {
     "iopub.execute_input": "2022-04-27T10:45:46.825042Z",
     "iopub.status.busy": "2022-04-27T10:45:46.824466Z",
     "iopub.status.idle": "2022-04-27T10:45:46.835949Z",
     "shell.execute_reply": "2022-04-27T10:45:46.834507Z",
     "shell.execute_reply.started": "2022-04-27T10:45:46.824982Z"
    },
    "tags": []
   },
   "outputs": [],
   "source": [
    "df_out = df_in_labeldummies.loc[:, columns_neworder]"
   ]
  },
  {
   "cell_type": "code",
   "execution_count": 10,
   "id": "50897329-9582-4deb-b152-097b231641db",
   "metadata": {
    "execution": {
     "iopub.execute_input": "2022-04-27T10:45:47.352959Z",
     "iopub.status.busy": "2022-04-27T10:45:47.352384Z",
     "iopub.status.idle": "2022-04-27T10:46:00.893827Z",
     "shell.execute_reply": "2022-04-27T10:46:00.892896Z",
     "shell.execute_reply.started": "2022-04-27T10:45:47.352902Z"
    },
    "tags": []
   },
   "outputs": [],
   "source": [
    "df_out.to_excel(data_out_p, index = False)"
   ]
  }
 ],
 "metadata": {
  "kernelspec": {
   "display_name": "Python 3.8, tm",
   "language": "python",
   "name": "tmenv"
  },
  "language_info": {
   "codemirror_mode": {
    "name": "ipython",
    "version": 3
   },
   "file_extension": ".py",
   "mimetype": "text/x-python",
   "name": "python",
   "nbconvert_exporter": "python",
   "pygments_lexer": "ipython3",
   "version": "3.8.10"
  }
 },
 "nbformat": 4,
 "nbformat_minor": 5
}
