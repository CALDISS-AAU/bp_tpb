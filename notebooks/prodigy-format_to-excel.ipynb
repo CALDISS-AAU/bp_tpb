{
 "cells": [
  {
   "cell_type": "code",
   "execution_count": 76,
   "id": "36c469c4-da1a-4308-b545-06a014e08d3f",
   "metadata": {
    "execution": {
     "iopub.execute_input": "2022-04-29T08:03:57.979397Z",
     "iopub.status.busy": "2022-04-29T08:03:57.978697Z",
     "iopub.status.idle": "2022-04-29T08:03:57.988219Z",
     "shell.execute_reply": "2022-04-29T08:03:57.987304Z",
     "shell.execute_reply.started": "2022-04-29T08:03:57.979313Z"
    },
    "tags": []
   },
   "outputs": [],
   "source": [
    "import json\n",
    "import pandas as pd\n",
    "import os\n",
    "import re\n",
    "\n",
    "# data in and out names\n",
    "data_raw = \"tpb_tweets_filtered_20220328.json\"\n",
    "data_in = 'tpb_covidcat_labelled_20220429.jsonl'\n",
    "data_out_n = 'tpb_covid-tweets_labelled.xlsx'\n",
    "\n",
    "# columns names for labels\n",
    "old_label_cols = ['Physical stuckness and Covid', 'Pandemic precarity', 'Blocked and derailed mobilities because of Covid', 'New mobilities in relation to Covid', 'Other']\n",
    "new_label_cols = ['Physical stuckness and Covid', 'Pandemic precarity', 'Blocked and derailed mobilities in relation to Covid', 'Mobility in relation to Covid ', 'Other']\n",
    "\n",
    "label_rename_map = dict(zip(old_label_cols, new_label_cols))\n",
    "\n",
    "data_d = os.path.join('..', 'data')\n",
    "\n",
    "# data paths\n",
    "data_raw_p = os.path.join(data_d, data_raw)\n",
    "data_in_p = os.path.join(data_d, data_in)\n",
    "data_out_p = os.path.join(data_d, data_out_n)"
   ]
  },
  {
   "cell_type": "code",
   "execution_count": 56,
   "id": "20550b40-db13-45f2-b8e0-c72d2428a61b",
   "metadata": {
    "execution": {
     "iopub.execute_input": "2022-04-29T07:42:42.033511Z",
     "iopub.status.busy": "2022-04-29T07:42:42.032993Z",
     "iopub.status.idle": "2022-04-29T07:42:42.095987Z",
     "shell.execute_reply": "2022-04-29T07:42:42.095335Z",
     "shell.execute_reply.started": "2022-04-29T07:42:42.033458Z"
    },
    "tags": []
   },
   "outputs": [],
   "source": [
    "# loading data\n",
    "with open(data_raw_p, 'r') as f:\n",
    "    data = json.load(f)\n",
    "\n",
    "df_raw = pd.DataFrame.from_records(data).drop_duplicates('id')\n",
    "\n",
    "with open(data_in_p, 'r') as f:\n",
    "    data = [json.loads(line) for line in f]\n",
    "\n",
    "df_in = pd.DataFrame.from_records(data)\n",
    "\n",
    "id_regex = re.compile(r'(?<=/)(\\d{15,20})$')\n",
    "df_in['id'] = df_in['tweet_link'].str.extract(regex).astype('int')"
   ]
  },
  {
   "cell_type": "code",
   "execution_count": 58,
   "id": "50a1ecf3-d4b7-41a0-a7c7-b0874e2e0e46",
   "metadata": {
    "execution": {
     "iopub.execute_input": "2022-04-29T07:43:00.996889Z",
     "iopub.status.busy": "2022-04-29T07:43:00.996188Z",
     "iopub.status.idle": "2022-04-29T07:43:01.019798Z",
     "shell.execute_reply": "2022-04-29T07:43:01.019140Z",
     "shell.execute_reply.started": "2022-04-29T07:43:00.996804Z"
    },
    "tags": []
   },
   "outputs": [],
   "source": [
    "# tidy - one row per label\n",
    "df_in = df_in.explode('accept').reset_index(drop = True)\n",
    "df_in['accept'] = df_in['accept'].replace(label_rename_map)\n",
    "df_merged = pd.merge(df_in.loc[:, ['id', 'accept']], df_raw, how = 'inner', on = 'id')"
   ]
  },
  {
   "cell_type": "code",
   "execution_count": 84,
   "id": "57a23bab-8165-4174-b02a-1b3ffe824de7",
   "metadata": {
    "execution": {
     "iopub.execute_input": "2022-04-29T08:07:49.722724Z",
     "iopub.status.busy": "2022-04-29T08:07:49.722275Z",
     "iopub.status.idle": "2022-04-29T08:07:49.743399Z",
     "shell.execute_reply": "2022-04-29T08:07:49.742927Z",
     "shell.execute_reply.started": "2022-04-29T08:07:49.722683Z"
    },
    "tags": []
   },
   "outputs": [],
   "source": [
    "# convert labels to dummy variables\n",
    "#df_in['accepted'] = 1\n",
    "#df_in_labeldummies = pd.merge(df_raw, df_in.pivot(index = 'id', columns=\"accept\", values=\"accepted\").reset_index().loc[:, ['id'] + label_cols].fillna(0), how = 'inner', on = 'id')\n",
    "\n",
    "# reorder columns - dummies\n",
    "#columns_neworder = ['created_at', 'name', 'username', 'text', 'tweet_link', 'covid'] + label_cols + ['id', 'hashtags', 'urls', 'retweet_count', 'reply_count', 'like_count', 'quote_count', 'referenced_type', 'referenced_id']\n",
    "#df_out = df_in_labeldummies.loc[:, columns_neworder]\n",
    "\n",
    "# reorder columns - tidy\n",
    "columns_neworder = ['created_at', 'name', 'username', 'text', 'tweet_link', 'covid', 'accept', 'id', 'hashtags', 'urls', 'retweet_count', 'reply_count', 'like_count', 'quote_count', 'referenced_type', 'referenced_id']\n",
    "df_out = df_merged.loc[:, columns_neworder].rename(columns = {'accept': 'label'})\n",
    "\n",
    "# drop ignored (label na)\n",
    "df_out = df_out.dropna(subset = ['label'])\n",
    "\n",
    "# id as string\n",
    "df_out['id'] = df_out['id'].astype('str')\n",
    "\n",
    "# convert to datetime\n",
    "df_out['created_at'] = pd.to_datetime(df_out['created_at']).dt.tz_localize(None) # removing timezone\n",
    "\n",
    "# sort by datetime (old to new)\n",
    "df_out = df_out.sort_values('created_at')"
   ]
  },
  {
   "cell_type": "code",
   "execution_count": 85,
   "id": "50897329-9582-4deb-b152-097b231641db",
   "metadata": {
    "execution": {
     "iopub.execute_input": "2022-04-29T08:07:50.545531Z",
     "iopub.status.busy": "2022-04-29T08:07:50.545001Z",
     "iopub.status.idle": "2022-04-29T08:07:50.800580Z",
     "shell.execute_reply": "2022-04-29T08:07:50.799365Z",
     "shell.execute_reply.started": "2022-04-29T08:07:50.545478Z"
    },
    "tags": []
   },
   "outputs": [],
   "source": [
    "df_out.to_excel(data_out_p, index = False)"
   ]
  }
 ],
 "metadata": {
  "kernelspec": {
   "display_name": "Python 3.8, tm",
   "language": "python",
   "name": "tmenv"
  },
  "language_info": {
   "codemirror_mode": {
    "name": "ipython",
    "version": 3
   },
   "file_extension": ".py",
   "mimetype": "text/x-python",
   "name": "python",
   "nbconvert_exporter": "python",
   "pygments_lexer": "ipython3",
   "version": "3.8.10"
  }
 },
 "nbformat": 4,
 "nbformat_minor": 5
}
