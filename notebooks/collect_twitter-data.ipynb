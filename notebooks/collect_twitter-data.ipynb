{
 "cells": [
  {
   "cell_type": "code",
   "execution_count": 20,
   "metadata": {},
   "outputs": [],
   "source": [
    "import requests\n",
    "import os\n",
    "import json\n",
    "import time\n",
    "from datetime import datetime, timedelta"
   ]
  },
  {
   "cell_type": "code",
   "execution_count": 62,
   "metadata": {},
   "outputs": [],
   "source": [
    "# handles\n",
    "with open(os.path.join(\"..\", \"materials\", \"news-handles.txt\"), \"r\") as f:\n",
    "    handles = f.read().split(\"\\n\")\n",
    "\n",
    "# token and endpoint\n",
    "with open(os.path.join(\"D:/\", \"repos\", \"tokens\", \"twitter_bearer.txt\"), 'r') as f:\n",
    "    bearer_token = f.read()\n",
    "\n",
    "search_url = \"https://api.twitter.com/2/tweets/search/all\"\n",
    "\n",
    "# set start_time\n",
    "#d = datetime.today() - timedelta(days=7)\n",
    "#start_time = f\"{str(d.date())}T00:00:00Z\"\n",
    "start_time = \"2020-02-01T00:00:00Z\"\n",
    "end_time = \"2021-12-08T00:00:00Z\"\n",
    "\n",
    "query_string = ' OR '.join([f\"(from:{handle})\" for handle in handles])\n",
    "\n",
    "query_params = {'query': query_string,\n",
    "                'tweet.fields': 'entities,public_metrics,created_at,referenced_tweets',\n",
    "                'expansions': 'author_id',\n",
    "                'user.fields': 'created_at,description,public_metrics,url,verified', \n",
    "                'max_results': 500,\n",
    "                'start_time': start_time,\n",
    "                'end_time': end_time}\n"
   ]
  },
  {
   "cell_type": "code",
   "execution_count": 63,
   "metadata": {},
   "outputs": [],
   "source": [
    "def bearer_oauth(r):\n",
    "    \"\"\"\n",
    "    Method required by bearer token authentication.\n",
    "    \"\"\"\n",
    "\n",
    "    r.headers[\"Authorization\"] = f\"Bearer {bearer_token}\"\n",
    "    r.headers[\"User-Agent\"] = \"v2FullArchiveSearchPython\"\n",
    "    return r\n",
    "\n",
    "\n",
    "def connect_to_endpoint(url, params):\n",
    "    response = requests.get(search_url, auth=bearer_oauth, params=params)\n",
    "    #print(response.status_code)\n",
    "    if response.status_code != 200:\n",
    "        raise Exception(response.status_code, response.text)\n",
    "    return response.json()\n",
    "\n",
    "\n",
    "def initial():\n",
    "    json_response = connect_to_endpoint(search_url, query_params)\n",
    "    return(json_response)\n",
    "\n",
    "def continued(next_token):\n",
    "    new_params = query_params.copy()\n",
    "    new_params['next_token'] = next_token\n",
    "    json_response = connect_to_endpoint(search_url, new_params)\n",
    "    return(json_response)\n",
    "\n",
    "data = initial()\n",
    "#all_data = data.copy()\n",
    "#all_data.pop('meta', None)\n",
    "\n",
    "used_next_tokens = []\n",
    "next_token = data.get('meta').get('next_token')\n",
    "\n",
    "if next_token is not None:\n",
    "    while True:\n",
    "        time.sleep(1)\n",
    "        data = continued(next_token)\n",
    "        all_data['data'] = all_data.get('data') + data.get('data')\n",
    "        all_data['includes']['users'] = all_data.get('includes').get('users') + data.get('includes').get('users')\n",
    "\n",
    "        used_next_tokens.append(next_token)\n",
    "\n",
    "        next_token = data.get('meta').get('next_token')\n",
    "\n",
    "        if next_token is None:\n",
    "            break"
   ]
  },
  {
   "cell_type": "code",
   "execution_count": 64,
   "metadata": {},
   "outputs": [
    {
     "data": {
      "text/plain": [
       "423803"
      ]
     },
     "execution_count": 64,
     "metadata": {},
     "output_type": "execute_result"
    }
   ],
   "source": [
    "len(all_data.get('data'))"
   ]
  },
  {
   "cell_type": "code",
   "execution_count": 65,
   "metadata": {},
   "outputs": [
    {
     "data": {
      "text/plain": [
       "{'entities': {'mentions': [{'start': 133,\n",
       "    'end': 141,\n",
       "    'username': 'mcjomcg',\n",
       "    'id': '45915319'}],\n",
       "  'urls': [{'start': 234,\n",
       "    'end': 257,\n",
       "    'url': 'https://t.co/90xZmvrgdq',\n",
       "    'expanded_url': 'https://on.wsj.com/31epgYx',\n",
       "    'display_url': 'on.wsj.com/31epgYx'},\n",
       "   {'start': 258,\n",
       "    'end': 281,\n",
       "    'url': 'https://t.co/XhUy5PL0mH',\n",
       "    'expanded_url': 'https://twitter.com/WSJ/status/1223395537778626562/video/1',\n",
       "    'display_url': 'pic.twitter.com/XhUy5PL0mH'}],\n",
       "  'hashtags': [{'start': 221, 'end': 233, 'tag': 'WSJWhatsNow'}],\n",
       "  'annotations': [{'start': 4,\n",
       "    'end': 21,\n",
       "    'probability': 0.9135,\n",
       "    'type': 'Organization',\n",
       "    'normalized_text': 'Kansas City Chiefs'},\n",
       "   {'start': 27,\n",
       "    'end': 45,\n",
       "    'probability': 0.7282,\n",
       "    'type': 'Organization',\n",
       "    'normalized_text': 'San Francisco 49ers'},\n",
       "   {'start': 126,\n",
       "    'end': 130,\n",
       "    'probability': 0.8115,\n",
       "    'type': 'Place',\n",
       "    'normalized_text': 'Miami'},\n",
       "   {'start': 209,\n",
       "    'end': 218,\n",
       "    'probability': 0.4027,\n",
       "    'type': 'Other',\n",
       "    'normalized_text': 'Super Bowl'}]},\n",
       " 'id': '1223395537778626562',\n",
       " 'created_at': '2020-02-01T00:00:00.000Z',\n",
       " 'public_metrics': {'retweet_count': 10,\n",
       "  'reply_count': 3,\n",
       "  'like_count': 36,\n",
       "  'quote_count': 5},\n",
       " 'author_id': '3108351',\n",
       " 'text': 'The Kansas City Chiefs and San Francisco 49ers will throw down this Sunday on fresh grass rolled out just for the big game in Miami. @mcjomcg explains what goes into building a grass field custom-made for the Super Bowl. #WSJWhatsNow https://t.co/90xZmvrgdq https://t.co/XhUy5PL0mH'}"
      ]
     },
     "execution_count": 65,
     "metadata": {},
     "output_type": "execute_result"
    }
   ],
   "source": [
    "all_data.get('data')[len(all_data.get('data'))-1]"
   ]
  },
  {
   "cell_type": "code",
   "execution_count": 67,
   "metadata": {},
   "outputs": [],
   "source": [
    "with open(os.path.join(\"..\", \"data\", \"tpb_tweets_news-outlets_20211208.json\"), \"w\") as f:\n",
    "    json.dump(all_data, f)"
   ]
  }
 ],
 "metadata": {
  "kernelspec": {
   "display_name": "Python 3",
   "language": "python",
   "name": "python3"
  },
  "language_info": {
   "codemirror_mode": {
    "name": "ipython",
    "version": 3
   },
   "file_extension": ".py",
   "mimetype": "text/x-python",
   "name": "python",
   "nbconvert_exporter": "python",
   "pygments_lexer": "ipython3",
   "version": "3.7.9"
  }
 },
 "nbformat": 4,
 "nbformat_minor": 4
}
