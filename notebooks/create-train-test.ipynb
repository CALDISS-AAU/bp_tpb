{
 "cells": [
  {
   "cell_type": "code",
   "execution_count": 1,
   "id": "5d7b58c2-9eea-4fdf-aeb5-8a8429541c38",
   "metadata": {
    "execution": {
     "iopub.execute_input": "2022-05-31T12:24:54.604883Z",
     "iopub.status.busy": "2022-05-31T12:24:54.604600Z",
     "iopub.status.idle": "2022-05-31T12:24:54.610975Z",
     "shell.execute_reply": "2022-05-31T12:24:54.610534Z",
     "shell.execute_reply.started": "2022-05-31T12:24:54.604811Z"
    },
    "tags": []
   },
   "outputs": [],
   "source": [
    "import os\n",
    "import json\n",
    "import re\n",
    "from datetime import datetime\n",
    "import random\n",
    "\n",
    "in_n = 'tpb_contextcat_20220523.jsonl'\n",
    "\n",
    "data_p = os.path.join('..', 'data')\n",
    "sets_out = os.path.join(data_p, 'prodigy')\n",
    "\n",
    "data_in_p = os.path.join(data_p, in_n)"
   ]
  },
  {
   "cell_type": "code",
   "execution_count": 2,
   "id": "44ec3fa6-68f3-4b6a-b755-f52d837bcbe3",
   "metadata": {
    "execution": {
     "iopub.execute_input": "2022-05-31T12:24:55.293448Z",
     "iopub.status.busy": "2022-05-31T12:24:55.293123Z",
     "iopub.status.idle": "2022-05-31T12:24:55.678356Z",
     "shell.execute_reply": "2022-05-31T12:24:55.677428Z",
     "shell.execute_reply.started": "2022-05-31T12:24:55.293419Z"
    },
    "tags": []
   },
   "outputs": [],
   "source": [
    "# loading data\n",
    "with open(data_in_p, 'r') as f:\n",
    "    data = [json.loads(line) for line in f]\n",
    "\n",
    "# recreate id from link\n",
    "id_regex = re.compile(r'(?<=/)(\\d{15,20})$')\n",
    "\n",
    "for entry in data:\n",
    "    entry['id'] = id_regex.search(entry['tweet_link']).group(1)"
   ]
  },
  {
   "cell_type": "code",
   "execution_count": 3,
   "id": "177fcd1e-d314-492a-ba7c-23f5c2725816",
   "metadata": {
    "execution": {
     "iopub.execute_input": "2022-05-31T12:24:56.200339Z",
     "iopub.status.busy": "2022-05-31T12:24:56.200078Z",
     "iopub.status.idle": "2022-05-31T12:24:56.202992Z",
     "shell.execute_reply": "2022-05-31T12:24:56.202522Z",
     "shell.execute_reply.started": "2022-05-31T12:24:56.200315Z"
    },
    "tags": []
   },
   "outputs": [],
   "source": [
    "# Use data labelled on April 29th to train model\n",
    "\n",
    "filter_timestamp = datetime.timestamp(datetime.fromisoformat('2022-04-29T23:59:59'))"
   ]
  },
  {
   "cell_type": "code",
   "execution_count": 4,
   "id": "0996bc8a-781f-4441-ac46-bbac679b3943",
   "metadata": {
    "execution": {
     "iopub.execute_input": "2022-05-31T12:24:56.922135Z",
     "iopub.status.busy": "2022-05-31T12:24:56.921839Z",
     "iopub.status.idle": "2022-05-31T12:24:56.930153Z",
     "shell.execute_reply": "2022-05-31T12:24:56.929100Z",
     "shell.execute_reply.started": "2022-05-31T12:24:56.922108Z"
    },
    "tags": []
   },
   "outputs": [],
   "source": [
    "data_model = []\n",
    "\n",
    "for entry in data:\n",
    "    if entry['_timestamp'] < filter_timestamp:\n",
    "        data_model.append(entry)\n",
    "\n",
    "random.seed(4268)\n",
    "random.shuffle(data_model)\n",
    "\n",
    "n_test = round(0.2 * len(data_model)) # Using 20% for test\n",
    "\n",
    "train_data = data_model[n_test:]\n",
    "test_data = data_model[:n_test]"
   ]
  },
  {
   "cell_type": "code",
   "execution_count": 6,
   "id": "66274aad-b139-4f11-aec7-cdfc8a082cbf",
   "metadata": {
    "execution": {
     "iopub.execute_input": "2022-05-31T12:25:59.469927Z",
     "iopub.status.busy": "2022-05-31T12:25:59.468988Z",
     "iopub.status.idle": "2022-05-31T12:25:59.556086Z",
     "shell.execute_reply": "2022-05-31T12:25:59.555290Z",
     "shell.execute_reply.started": "2022-05-31T12:25:59.469864Z"
    },
    "tags": []
   },
   "outputs": [],
   "source": [
    "train_out_p = os.path.join(sets_out, 'tpb_contextcat_train.jsonl')\n",
    "test_out_p = os.path.join(sets_out, 'tpb_contextcat_test.jsonl')\n",
    "\n",
    "with open(train_out_p, 'w') as outfile:\n",
    "    for entry in train_data:\n",
    "        json.dump(entry, outfile)\n",
    "        outfile.write('\\n')\n",
    "\n",
    "with open(test_out_p, 'w') as outfile:\n",
    "    for entry in test_data:\n",
    "        json.dump(entry, outfile)\n",
    "        outfile.write('\\n')"
   ]
  }
 ],
 "metadata": {
  "kernelspec": {
   "display_name": "Python 3.8, tm",
   "language": "python",
   "name": "tmenv"
  },
  "language_info": {
   "codemirror_mode": {
    "name": "ipython",
    "version": 3
   },
   "file_extension": ".py",
   "mimetype": "text/x-python",
   "name": "python",
   "nbconvert_exporter": "python",
   "pygments_lexer": "ipython3",
   "version": "3.8.10"
  }
 },
 "nbformat": 4,
 "nbformat_minor": 5
}
