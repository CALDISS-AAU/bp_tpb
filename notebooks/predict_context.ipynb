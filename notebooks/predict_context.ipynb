{
 "cells": [
  {
   "cell_type": "code",
   "execution_count": 84,
   "id": "5d7b58c2-9eea-4fdf-aeb5-8a8429541c38",
   "metadata": {
    "execution": {
     "iopub.execute_input": "2022-05-23T15:23:24.606622Z",
     "iopub.status.busy": "2022-05-23T15:23:24.606093Z",
     "iopub.status.idle": "2022-05-23T15:23:24.873412Z",
     "shell.execute_reply": "2022-05-23T15:23:24.872702Z",
     "shell.execute_reply.started": "2022-05-23T15:23:24.606565Z"
    },
    "tags": []
   },
   "outputs": [],
   "source": [
    "import spacy\n",
    "import os\n",
    "import json\n",
    "import pandas as pd \n",
    "import re\n",
    "from datetime import datetime\n",
    "import numpy as np\n",
    "\n",
    "model_path = os.path.join('..', 'models', 'tpb_labeller', 'model-best')\n",
    "\n",
    "raw_n = 'tpb_tweets_filtered_20220328.json'\n",
    "in_n = 'tpb_contextcat_20220523.jsonl'\n",
    "\n",
    "# columns names for labels\n",
    "old_label_cols = ['Physical stuckness and Covid', 'Pandemic precarity', 'Blocked and derailed mobilities because of Covid', 'New mobilities in relation to Covid', 'Other']\n",
    "new_label_cols = ['Physical stuckness and Covid', 'Pandemic precarity', 'Blocked and derailed mobilities in relation to Covid', 'Mobility in relation to Covid ', 'Other']\n",
    "\n",
    "label_rename_map = dict(zip(old_label_cols, new_label_cols))\n",
    "\n",
    "data_p = os.path.join('..', 'data')\n",
    "\n",
    "data_raw_p = os.path.join(data_p, raw_n)\n",
    "data_in_p = os.path.join(data_p, in_n)\n",
    "\n",
    "nlp = spacy.load(model_path)"
   ]
  },
  {
   "cell_type": "code",
   "execution_count": 85,
   "id": "44ec3fa6-68f3-4b6a-b755-f52d837bcbe3",
   "metadata": {
    "execution": {
     "iopub.execute_input": "2022-05-23T15:23:26.118294Z",
     "iopub.status.busy": "2022-05-23T15:23:26.117767Z",
     "iopub.status.idle": "2022-05-23T15:23:26.316197Z",
     "shell.execute_reply": "2022-05-23T15:23:26.315552Z",
     "shell.execute_reply.started": "2022-05-23T15:23:26.118240Z"
    },
    "tags": []
   },
   "outputs": [],
   "source": [
    "# loading data\n",
    "with open(data_raw_p, 'r') as f:\n",
    "    data = json.load(f)\n",
    "    \n",
    "df_raw = pd.DataFrame.from_records(data).drop_duplicates('id')\n",
    "\n",
    "with open(data_in_p, 'r') as f:\n",
    "    data = [json.loads(line) for line in f]\n",
    "\n",
    "df_in = pd.DataFrame.from_records(data)\n",
    "\n",
    "# recreate id from link\n",
    "id_regex = re.compile(r'(?<=/)(\\d{15,20})$')\n",
    "df_in['id'] = df_in['tweet_link'].str.extract(id_regex).astype('int')\n",
    "\n",
    "# tidy - one row per label\n",
    "df_in = df_in.explode('accept').reset_index(drop = True)"
   ]
  },
  {
   "cell_type": "code",
   "execution_count": 86,
   "id": "524c8ad0-91dd-485e-aafb-59f79a0a0948",
   "metadata": {
    "execution": {
     "iopub.execute_input": "2022-05-23T15:23:26.678926Z",
     "iopub.status.busy": "2022-05-23T15:23:26.678430Z",
     "iopub.status.idle": "2022-05-23T15:23:26.704939Z",
     "shell.execute_reply": "2022-05-23T15:23:26.704337Z",
     "shell.execute_reply.started": "2022-05-23T15:23:26.678875Z"
    },
    "tags": []
   },
   "outputs": [
    {
     "data": {
      "text/html": [
       "<div>\n",
       "<style scoped>\n",
       "    .dataframe tbody tr th:only-of-type {\n",
       "        vertical-align: middle;\n",
       "    }\n",
       "\n",
       "    .dataframe tbody tr th {\n",
       "        vertical-align: top;\n",
       "    }\n",
       "\n",
       "    .dataframe thead th {\n",
       "        text-align: right;\n",
       "    }\n",
       "</style>\n",
       "<table border=\"1\" class=\"dataframe\">\n",
       "  <thead>\n",
       "    <tr style=\"text-align: right;\">\n",
       "      <th></th>\n",
       "      <th>id</th>\n",
       "      <th>username</th>\n",
       "      <th>text</th>\n",
       "      <th>tweet_link</th>\n",
       "      <th>_input_hash</th>\n",
       "      <th>_task_hash</th>\n",
       "      <th>options</th>\n",
       "      <th>_view_id</th>\n",
       "      <th>config</th>\n",
       "      <th>accept</th>\n",
       "      <th>answer</th>\n",
       "      <th>_timestamp</th>\n",
       "      <th>_annotator_id</th>\n",
       "      <th>_session_id</th>\n",
       "    </tr>\n",
       "  </thead>\n",
       "  <tbody>\n",
       "    <tr>\n",
       "      <th>0</th>\n",
       "      <td>1468279014120845313</td>\n",
       "      <td>AJEnglish</td>\n",
       "      <td>Part of one of the world’s oldest surviving wo...</td>\n",
       "      <td>https://twitter.com/AJEnglish/status/146827901...</td>\n",
       "      <td>-1538745346</td>\n",
       "      <td>368596328</td>\n",
       "      <td>[{'id': 'The backdrop of physical stuckness', ...</td>\n",
       "      <td>choice</td>\n",
       "      <td>{'choice_style': 'multiple'}</td>\n",
       "      <td>NaN</td>\n",
       "      <td>ignore</td>\n",
       "      <td>1650632594</td>\n",
       "      <td>tpb_contextcat-eva</td>\n",
       "      <td>tpb_contextcat-eva</td>\n",
       "    </tr>\n",
       "    <tr>\n",
       "      <th>1</th>\n",
       "      <td>1468225220125331467</td>\n",
       "      <td>AJEnglish</td>\n",
       "      <td>\"Funds from the EU and member states, sometime...</td>\n",
       "      <td>https://twitter.com/AJEnglish/status/146822522...</td>\n",
       "      <td>1669483179</td>\n",
       "      <td>2076458894</td>\n",
       "      <td>[{'id': 'The backdrop of physical stuckness', ...</td>\n",
       "      <td>choice</td>\n",
       "      <td>{'choice_style': 'multiple'}</td>\n",
       "      <td>The backdrop of physical stuckness</td>\n",
       "      <td>accept</td>\n",
       "      <td>1650632638</td>\n",
       "      <td>tpb_contextcat-eva</td>\n",
       "      <td>tpb_contextcat-eva</td>\n",
       "    </tr>\n",
       "    <tr>\n",
       "      <th>2</th>\n",
       "      <td>1468225220125331467</td>\n",
       "      <td>AJEnglish</td>\n",
       "      <td>\"Funds from the EU and member states, sometime...</td>\n",
       "      <td>https://twitter.com/AJEnglish/status/146822522...</td>\n",
       "      <td>1669483179</td>\n",
       "      <td>2076458894</td>\n",
       "      <td>[{'id': 'The backdrop of physical stuckness', ...</td>\n",
       "      <td>choice</td>\n",
       "      <td>{'choice_style': 'multiple'}</td>\n",
       "      <td>Context of blocked and derailed mobilities</td>\n",
       "      <td>accept</td>\n",
       "      <td>1650632638</td>\n",
       "      <td>tpb_contextcat-eva</td>\n",
       "      <td>tpb_contextcat-eva</td>\n",
       "    </tr>\n",
       "    <tr>\n",
       "      <th>3</th>\n",
       "      <td>1468194076738600971</td>\n",
       "      <td>InfoMigrants</td>\n",
       "      <td>The Council of Europe has decided to shelve a ...</td>\n",
       "      <td>https://twitter.com/InfoMigrants/status/146819...</td>\n",
       "      <td>54907186</td>\n",
       "      <td>-26033530</td>\n",
       "      <td>[{'id': 'The backdrop of physical stuckness', ...</td>\n",
       "      <td>choice</td>\n",
       "      <td>{'choice_style': 'multiple'}</td>\n",
       "      <td>Context of blocked and derailed mobilities</td>\n",
       "      <td>accept</td>\n",
       "      <td>1650632654</td>\n",
       "      <td>tpb_contextcat-eva</td>\n",
       "      <td>tpb_contextcat-eva</td>\n",
       "    </tr>\n",
       "    <tr>\n",
       "      <th>4</th>\n",
       "      <td>1468139466946535425</td>\n",
       "      <td>AJEnglish</td>\n",
       "      <td>Libyan authorities get support from the EU to ...</td>\n",
       "      <td>https://twitter.com/AJEnglish/status/146813946...</td>\n",
       "      <td>-1780393086</td>\n",
       "      <td>1232472989</td>\n",
       "      <td>[{'id': 'The backdrop of physical stuckness', ...</td>\n",
       "      <td>choice</td>\n",
       "      <td>{'choice_style': 'multiple'}</td>\n",
       "      <td>Context of blocked and derailed mobilities</td>\n",
       "      <td>accept</td>\n",
       "      <td>1650632663</td>\n",
       "      <td>tpb_contextcat-eva</td>\n",
       "      <td>tpb_contextcat-eva</td>\n",
       "    </tr>\n",
       "  </tbody>\n",
       "</table>\n",
       "</div>"
      ],
      "text/plain": [
       "                    id      username  \\\n",
       "0  1468279014120845313     AJEnglish   \n",
       "1  1468225220125331467     AJEnglish   \n",
       "2  1468225220125331467     AJEnglish   \n",
       "3  1468194076738600971  InfoMigrants   \n",
       "4  1468139466946535425     AJEnglish   \n",
       "\n",
       "                                                text  \\\n",
       "0  Part of one of the world’s oldest surviving wo...   \n",
       "1  \"Funds from the EU and member states, sometime...   \n",
       "2  \"Funds from the EU and member states, sometime...   \n",
       "3  The Council of Europe has decided to shelve a ...   \n",
       "4  Libyan authorities get support from the EU to ...   \n",
       "\n",
       "                                          tweet_link  _input_hash  _task_hash  \\\n",
       "0  https://twitter.com/AJEnglish/status/146827901...  -1538745346   368596328   \n",
       "1  https://twitter.com/AJEnglish/status/146822522...   1669483179  2076458894   \n",
       "2  https://twitter.com/AJEnglish/status/146822522...   1669483179  2076458894   \n",
       "3  https://twitter.com/InfoMigrants/status/146819...     54907186   -26033530   \n",
       "4  https://twitter.com/AJEnglish/status/146813946...  -1780393086  1232472989   \n",
       "\n",
       "                                             options _view_id  \\\n",
       "0  [{'id': 'The backdrop of physical stuckness', ...   choice   \n",
       "1  [{'id': 'The backdrop of physical stuckness', ...   choice   \n",
       "2  [{'id': 'The backdrop of physical stuckness', ...   choice   \n",
       "3  [{'id': 'The backdrop of physical stuckness', ...   choice   \n",
       "4  [{'id': 'The backdrop of physical stuckness', ...   choice   \n",
       "\n",
       "                         config                                      accept  \\\n",
       "0  {'choice_style': 'multiple'}                                         NaN   \n",
       "1  {'choice_style': 'multiple'}          The backdrop of physical stuckness   \n",
       "2  {'choice_style': 'multiple'}  Context of blocked and derailed mobilities   \n",
       "3  {'choice_style': 'multiple'}  Context of blocked and derailed mobilities   \n",
       "4  {'choice_style': 'multiple'}  Context of blocked and derailed mobilities   \n",
       "\n",
       "   answer  _timestamp       _annotator_id         _session_id  \n",
       "0  ignore  1650632594  tpb_contextcat-eva  tpb_contextcat-eva  \n",
       "1  accept  1650632638  tpb_contextcat-eva  tpb_contextcat-eva  \n",
       "2  accept  1650632638  tpb_contextcat-eva  tpb_contextcat-eva  \n",
       "3  accept  1650632654  tpb_contextcat-eva  tpb_contextcat-eva  \n",
       "4  accept  1650632663  tpb_contextcat-eva  tpb_contextcat-eva  "
      ]
     },
     "execution_count": 86,
     "metadata": {},
     "output_type": "execute_result"
    }
   ],
   "source": [
    "df_in.head()"
   ]
  },
  {
   "cell_type": "code",
   "execution_count": 87,
   "id": "177fcd1e-d314-492a-ba7c-23f5c2725816",
   "metadata": {
    "execution": {
     "iopub.execute_input": "2022-05-23T15:23:27.231615Z",
     "iopub.status.busy": "2022-05-23T15:23:27.231094Z",
     "iopub.status.idle": "2022-05-23T15:23:27.241172Z",
     "shell.execute_reply": "2022-05-23T15:23:27.240013Z",
     "shell.execute_reply.started": "2022-05-23T15:23:27.231561Z"
    },
    "tags": []
   },
   "outputs": [],
   "source": [
    "# indicator for part of training of model or not (trained on april 29th 2022 - NOTE: Unknown whether part of train or test set)\n",
    "\n",
    "filter_timestamp = datetime.timestamp(datetime.fromisoformat('2022-04-29T23:59:59'))\n",
    "\n",
    "df_in['training'] = 0\n",
    "df_in.loc[df_in['_timestamp'] < filter_timestamp, 'training'] = 1 "
   ]
  },
  {
   "cell_type": "code",
   "execution_count": 88,
   "id": "81bc452e-2d27-4a16-8525-57ec307f1d65",
   "metadata": {
    "execution": {
     "iopub.execute_input": "2022-05-23T15:23:27.833161Z",
     "iopub.status.busy": "2022-05-23T15:23:27.832651Z",
     "iopub.status.idle": "2022-05-23T15:23:27.839830Z",
     "shell.execute_reply": "2022-05-23T15:23:27.838884Z",
     "shell.execute_reply.started": "2022-05-23T15:23:27.833107Z"
    },
    "tags": []
   },
   "outputs": [],
   "source": [
    "def predict_cat(text):\n",
    "    doc = nlp(text)\n",
    "    return_predict = {}\n",
    "    \n",
    "    predicted_cats = doc.cats\n",
    "    \n",
    "    max_cat_score = max(predicted_cats.values())\n",
    "    \n",
    "    return_predict['predict_cat'] = max(predicted_cats, key = predicted_cats.get)\n",
    "    return_predict['predict_score'] = max_cat_score\n",
    "    \n",
    "    return(return_predict)"
   ]
  },
  {
   "cell_type": "code",
   "execution_count": 54,
   "id": "b752344d-5ae6-4079-b563-adacd3859481",
   "metadata": {
    "execution": {
     "iopub.execute_input": "2022-05-23T15:16:04.989188Z",
     "iopub.status.busy": "2022-05-23T15:16:04.988636Z",
     "iopub.status.idle": "2022-05-23T15:16:05.000850Z",
     "shell.execute_reply": "2022-05-23T15:16:04.999781Z",
     "shell.execute_reply.started": "2022-05-23T15:16:04.989131Z"
    },
    "tags": []
   },
   "outputs": [
    {
     "data": {
      "text/plain": [
       "{'predict_cat': 'physical stuckness', 'predict_score': 0.5388820171356201}"
      ]
     },
     "execution_count": 54,
     "metadata": {},
     "output_type": "execute_result"
    }
   ],
   "source": [
    "predict_cat(data[9].get('text'))"
   ]
  },
  {
   "cell_type": "code",
   "execution_count": 89,
   "id": "67e89d67-1529-42f7-868b-68e44dba887b",
   "metadata": {
    "execution": {
     "iopub.execute_input": "2022-05-23T15:23:28.221192Z",
     "iopub.status.busy": "2022-05-23T15:23:28.220686Z",
     "iopub.status.idle": "2022-05-23T15:23:29.307774Z",
     "shell.execute_reply": "2022-05-23T15:23:29.307097Z",
     "shell.execute_reply.started": "2022-05-23T15:23:28.221140Z"
    },
    "tags": []
   },
   "outputs": [],
   "source": [
    "df_in = pd.merge(df_in, pd.json_normalize(df_in['text'].apply(predict_cat)), how = 'left', left_index = True, right_index = True)\n",
    "df_in.loc[df_in['accept'].isna(), ['predict_cat', 'predict_score']] = np.nan"
   ]
  },
  {
   "cell_type": "code",
   "execution_count": 90,
   "id": "ed185ebd-0ed7-4c05-a600-e249bc8e7d1b",
   "metadata": {
    "execution": {
     "iopub.execute_input": "2022-05-23T15:23:29.397661Z",
     "iopub.status.busy": "2022-05-23T15:23:29.397476Z",
     "iopub.status.idle": "2022-05-23T15:23:29.415582Z",
     "shell.execute_reply": "2022-05-23T15:23:29.415050Z",
     "shell.execute_reply.started": "2022-05-23T15:23:29.397641Z"
    },
    "tags": []
   },
   "outputs": [
    {
     "data": {
      "text/html": [
       "<div>\n",
       "<style scoped>\n",
       "    .dataframe tbody tr th:only-of-type {\n",
       "        vertical-align: middle;\n",
       "    }\n",
       "\n",
       "    .dataframe tbody tr th {\n",
       "        vertical-align: top;\n",
       "    }\n",
       "\n",
       "    .dataframe thead th {\n",
       "        text-align: right;\n",
       "    }\n",
       "</style>\n",
       "<table border=\"1\" class=\"dataframe\">\n",
       "  <thead>\n",
       "    <tr style=\"text-align: right;\">\n",
       "      <th></th>\n",
       "      <th>id</th>\n",
       "      <th>username</th>\n",
       "      <th>text</th>\n",
       "      <th>tweet_link</th>\n",
       "      <th>_input_hash</th>\n",
       "      <th>_task_hash</th>\n",
       "      <th>options</th>\n",
       "      <th>_view_id</th>\n",
       "      <th>config</th>\n",
       "      <th>accept</th>\n",
       "      <th>answer</th>\n",
       "      <th>_timestamp</th>\n",
       "      <th>_annotator_id</th>\n",
       "      <th>_session_id</th>\n",
       "      <th>training</th>\n",
       "      <th>predict_cat</th>\n",
       "      <th>predict_score</th>\n",
       "    </tr>\n",
       "  </thead>\n",
       "  <tbody>\n",
       "    <tr>\n",
       "      <th>0</th>\n",
       "      <td>1468279014120845313</td>\n",
       "      <td>AJEnglish</td>\n",
       "      <td>Part of one of the world’s oldest surviving wo...</td>\n",
       "      <td>https://twitter.com/AJEnglish/status/146827901...</td>\n",
       "      <td>-1538745346</td>\n",
       "      <td>368596328</td>\n",
       "      <td>[{'id': 'The backdrop of physical stuckness', ...</td>\n",
       "      <td>choice</td>\n",
       "      <td>{'choice_style': 'multiple'}</td>\n",
       "      <td>NaN</td>\n",
       "      <td>ignore</td>\n",
       "      <td>1650632594</td>\n",
       "      <td>tpb_contextcat-eva</td>\n",
       "      <td>tpb_contextcat-eva</td>\n",
       "      <td>1</td>\n",
       "      <td>NaN</td>\n",
       "      <td>NaN</td>\n",
       "    </tr>\n",
       "    <tr>\n",
       "      <th>1</th>\n",
       "      <td>1468225220125331467</td>\n",
       "      <td>AJEnglish</td>\n",
       "      <td>\"Funds from the EU and member states, sometime...</td>\n",
       "      <td>https://twitter.com/AJEnglish/status/146822522...</td>\n",
       "      <td>1669483179</td>\n",
       "      <td>2076458894</td>\n",
       "      <td>[{'id': 'The backdrop of physical stuckness', ...</td>\n",
       "      <td>choice</td>\n",
       "      <td>{'choice_style': 'multiple'}</td>\n",
       "      <td>The backdrop of physical stuckness</td>\n",
       "      <td>accept</td>\n",
       "      <td>1650632638</td>\n",
       "      <td>tpb_contextcat-eva</td>\n",
       "      <td>tpb_contextcat-eva</td>\n",
       "      <td>1</td>\n",
       "      <td>The backdrop of physical stuckness</td>\n",
       "      <td>0.975078</td>\n",
       "    </tr>\n",
       "    <tr>\n",
       "      <th>2</th>\n",
       "      <td>1468225220125331467</td>\n",
       "      <td>AJEnglish</td>\n",
       "      <td>\"Funds from the EU and member states, sometime...</td>\n",
       "      <td>https://twitter.com/AJEnglish/status/146822522...</td>\n",
       "      <td>1669483179</td>\n",
       "      <td>2076458894</td>\n",
       "      <td>[{'id': 'The backdrop of physical stuckness', ...</td>\n",
       "      <td>choice</td>\n",
       "      <td>{'choice_style': 'multiple'}</td>\n",
       "      <td>Context of blocked and derailed mobilities</td>\n",
       "      <td>accept</td>\n",
       "      <td>1650632638</td>\n",
       "      <td>tpb_contextcat-eva</td>\n",
       "      <td>tpb_contextcat-eva</td>\n",
       "      <td>1</td>\n",
       "      <td>The backdrop of physical stuckness</td>\n",
       "      <td>0.975078</td>\n",
       "    </tr>\n",
       "    <tr>\n",
       "      <th>3</th>\n",
       "      <td>1468194076738600971</td>\n",
       "      <td>InfoMigrants</td>\n",
       "      <td>The Council of Europe has decided to shelve a ...</td>\n",
       "      <td>https://twitter.com/InfoMigrants/status/146819...</td>\n",
       "      <td>54907186</td>\n",
       "      <td>-26033530</td>\n",
       "      <td>[{'id': 'The backdrop of physical stuckness', ...</td>\n",
       "      <td>choice</td>\n",
       "      <td>{'choice_style': 'multiple'}</td>\n",
       "      <td>Context of blocked and derailed mobilities</td>\n",
       "      <td>accept</td>\n",
       "      <td>1650632654</td>\n",
       "      <td>tpb_contextcat-eva</td>\n",
       "      <td>tpb_contextcat-eva</td>\n",
       "      <td>1</td>\n",
       "      <td>Context of blocked and derailed mobilities</td>\n",
       "      <td>0.977045</td>\n",
       "    </tr>\n",
       "    <tr>\n",
       "      <th>4</th>\n",
       "      <td>1468139466946535425</td>\n",
       "      <td>AJEnglish</td>\n",
       "      <td>Libyan authorities get support from the EU to ...</td>\n",
       "      <td>https://twitter.com/AJEnglish/status/146813946...</td>\n",
       "      <td>-1780393086</td>\n",
       "      <td>1232472989</td>\n",
       "      <td>[{'id': 'The backdrop of physical stuckness', ...</td>\n",
       "      <td>choice</td>\n",
       "      <td>{'choice_style': 'multiple'}</td>\n",
       "      <td>Context of blocked and derailed mobilities</td>\n",
       "      <td>accept</td>\n",
       "      <td>1650632663</td>\n",
       "      <td>tpb_contextcat-eva</td>\n",
       "      <td>tpb_contextcat-eva</td>\n",
       "      <td>1</td>\n",
       "      <td>Context of blocked and derailed mobilities</td>\n",
       "      <td>0.978058</td>\n",
       "    </tr>\n",
       "  </tbody>\n",
       "</table>\n",
       "</div>"
      ],
      "text/plain": [
       "                    id      username  \\\n",
       "0  1468279014120845313     AJEnglish   \n",
       "1  1468225220125331467     AJEnglish   \n",
       "2  1468225220125331467     AJEnglish   \n",
       "3  1468194076738600971  InfoMigrants   \n",
       "4  1468139466946535425     AJEnglish   \n",
       "\n",
       "                                                text  \\\n",
       "0  Part of one of the world’s oldest surviving wo...   \n",
       "1  \"Funds from the EU and member states, sometime...   \n",
       "2  \"Funds from the EU and member states, sometime...   \n",
       "3  The Council of Europe has decided to shelve a ...   \n",
       "4  Libyan authorities get support from the EU to ...   \n",
       "\n",
       "                                          tweet_link  _input_hash  _task_hash  \\\n",
       "0  https://twitter.com/AJEnglish/status/146827901...  -1538745346   368596328   \n",
       "1  https://twitter.com/AJEnglish/status/146822522...   1669483179  2076458894   \n",
       "2  https://twitter.com/AJEnglish/status/146822522...   1669483179  2076458894   \n",
       "3  https://twitter.com/InfoMigrants/status/146819...     54907186   -26033530   \n",
       "4  https://twitter.com/AJEnglish/status/146813946...  -1780393086  1232472989   \n",
       "\n",
       "                                             options _view_id  \\\n",
       "0  [{'id': 'The backdrop of physical stuckness', ...   choice   \n",
       "1  [{'id': 'The backdrop of physical stuckness', ...   choice   \n",
       "2  [{'id': 'The backdrop of physical stuckness', ...   choice   \n",
       "3  [{'id': 'The backdrop of physical stuckness', ...   choice   \n",
       "4  [{'id': 'The backdrop of physical stuckness', ...   choice   \n",
       "\n",
       "                         config                                      accept  \\\n",
       "0  {'choice_style': 'multiple'}                                         NaN   \n",
       "1  {'choice_style': 'multiple'}          The backdrop of physical stuckness   \n",
       "2  {'choice_style': 'multiple'}  Context of blocked and derailed mobilities   \n",
       "3  {'choice_style': 'multiple'}  Context of blocked and derailed mobilities   \n",
       "4  {'choice_style': 'multiple'}  Context of blocked and derailed mobilities   \n",
       "\n",
       "   answer  _timestamp       _annotator_id         _session_id  training  \\\n",
       "0  ignore  1650632594  tpb_contextcat-eva  tpb_contextcat-eva         1   \n",
       "1  accept  1650632638  tpb_contextcat-eva  tpb_contextcat-eva         1   \n",
       "2  accept  1650632638  tpb_contextcat-eva  tpb_contextcat-eva         1   \n",
       "3  accept  1650632654  tpb_contextcat-eva  tpb_contextcat-eva         1   \n",
       "4  accept  1650632663  tpb_contextcat-eva  tpb_contextcat-eva         1   \n",
       "\n",
       "                                  predict_cat  predict_score  \n",
       "0                                         NaN            NaN  \n",
       "1          The backdrop of physical stuckness       0.975078  \n",
       "2          The backdrop of physical stuckness       0.975078  \n",
       "3  Context of blocked and derailed mobilities       0.977045  \n",
       "4  Context of blocked and derailed mobilities       0.978058  "
      ]
     },
     "execution_count": 90,
     "metadata": {},
     "output_type": "execute_result"
    }
   ],
   "source": [
    "df_in.head()"
   ]
  },
  {
   "cell_type": "code",
   "execution_count": 104,
   "id": "4e3a5c3d-87bc-4e16-ba42-d5384e7898c3",
   "metadata": {
    "execution": {
     "iopub.execute_input": "2022-05-23T15:27:06.668531Z",
     "iopub.status.busy": "2022-05-23T15:27:06.667994Z",
     "iopub.status.idle": "2022-05-23T15:27:06.677817Z",
     "shell.execute_reply": "2022-05-23T15:27:06.676760Z",
     "shell.execute_reply.started": "2022-05-23T15:27:06.668477Z"
    },
    "tags": []
   },
   "outputs": [],
   "source": [
    "df_select = df_in.loc[(df_in['training'] == 0) & (df_in['predict_score'] >= 0.5), ]"
   ]
  },
  {
   "cell_type": "code",
   "execution_count": 105,
   "id": "c350b75c-b532-49a9-a805-90f6da26ae05",
   "metadata": {
    "execution": {
     "iopub.execute_input": "2022-05-23T15:27:12.709310Z",
     "iopub.status.busy": "2022-05-23T15:27:12.708792Z",
     "iopub.status.idle": "2022-05-23T15:27:12.719385Z",
     "shell.execute_reply": "2022-05-23T15:27:12.718641Z",
     "shell.execute_reply.started": "2022-05-23T15:27:12.709258Z"
    },
    "tags": []
   },
   "outputs": [
    {
     "data": {
      "text/plain": [
       "Existing precarity and vulnerabilities        287\n",
       "New mobilities and migratory routes           223\n",
       "Context of blocked and derailed mobilities    164\n",
       "Other                                          37\n",
       "The backdrop of physical stuckness             22\n",
       "Name: predict_cat, dtype: int64"
      ]
     },
     "execution_count": 105,
     "metadata": {},
     "output_type": "execute_result"
    }
   ],
   "source": [
    "df_select['predict_cat'].value_counts()"
   ]
  },
  {
   "cell_type": "code",
   "execution_count": 106,
   "id": "95f3bd96-b3e3-4349-bc07-69a18749cdea",
   "metadata": {
    "execution": {
     "iopub.execute_input": "2022-05-23T15:27:14.620840Z",
     "iopub.status.busy": "2022-05-23T15:27:14.620324Z",
     "iopub.status.idle": "2022-05-23T15:27:14.633359Z",
     "shell.execute_reply": "2022-05-23T15:27:14.632510Z",
     "shell.execute_reply.started": "2022-05-23T15:27:14.620786Z"
    },
    "tags": []
   },
   "outputs": [
    {
     "data": {
      "text/plain": [
       "predict_cat\n",
       "Context of blocked and derailed mobilities    0.715056\n",
       "Existing precarity and vulnerabilities        0.722019\n",
       "New mobilities and migratory routes           0.756711\n",
       "Other                                         0.655290\n",
       "The backdrop of physical stuckness            0.680670\n",
       "Name: predict_score, dtype: float64"
      ]
     },
     "execution_count": 106,
     "metadata": {},
     "output_type": "execute_result"
    }
   ],
   "source": [
    "df_select.groupby('predict_cat')['predict_score'].mean()"
   ]
  },
  {
   "cell_type": "code",
   "execution_count": 107,
   "id": "4e72a288-61a7-44ec-bd3a-784cc36c6acc",
   "metadata": {
    "execution": {
     "iopub.execute_input": "2022-05-23T15:27:15.936986Z",
     "iopub.status.busy": "2022-05-23T15:27:15.936476Z",
     "iopub.status.idle": "2022-05-23T15:27:15.947304Z",
     "shell.execute_reply": "2022-05-23T15:27:15.946332Z",
     "shell.execute_reply.started": "2022-05-23T15:27:15.936934Z"
    },
    "tags": []
   },
   "outputs": [
    {
     "data": {
      "text/plain": [
       "Existing precarity and vulnerabilities        228\n",
       "Context of blocked and derailed mobilities    167\n",
       "New mobilities and migratory routes           159\n",
       "The backdrop of physical stuckness             92\n",
       "Other                                          87\n",
       "Name: accept, dtype: int64"
      ]
     },
     "execution_count": 107,
     "metadata": {},
     "output_type": "execute_result"
    }
   ],
   "source": [
    "df_select['accept'].value_counts()"
   ]
  }
 ],
 "metadata": {
  "kernelspec": {
   "display_name": "Python 3.8, tm",
   "language": "python",
   "name": "tmenv"
  },
  "language_info": {
   "codemirror_mode": {
    "name": "ipython",
    "version": 3
   },
   "file_extension": ".py",
   "mimetype": "text/x-python",
   "name": "python",
   "nbconvert_exporter": "python",
   "pygments_lexer": "ipython3",
   "version": "3.8.10"
  }
 },
 "nbformat": 4,
 "nbformat_minor": 5
}
