{
 "cells": [
  {
   "cell_type": "code",
   "execution_count": 1,
   "metadata": {
    "execution": {
     "iopub.execute_input": "2022-03-08T12:22:01.051402Z",
     "iopub.status.busy": "2022-03-08T12:22:01.050876Z",
     "iopub.status.idle": "2022-03-08T12:22:01.421048Z",
     "shell.execute_reply": "2022-03-08T12:22:01.420293Z",
     "shell.execute_reply.started": "2022-03-08T12:22:01.051349Z"
    },
    "tags": []
   },
   "outputs": [],
   "source": [
    "# import packages\n",
    "\n",
    "import pandas as pd\n",
    "import ast \n",
    "import numpy as np\n",
    "import json\n",
    "import re"
   ]
  },
  {
   "cell_type": "code",
   "execution_count": 2,
   "metadata": {
    "execution": {
     "iopub.execute_input": "2022-03-08T12:22:01.426933Z",
     "iopub.status.busy": "2022-03-08T12:22:01.426776Z",
     "iopub.status.idle": "2022-03-08T12:22:09.230582Z",
     "shell.execute_reply": "2022-03-08T12:22:09.229688Z",
     "shell.execute_reply.started": "2022-03-08T12:22:01.426917Z"
    },
    "tags": []
   },
   "outputs": [],
   "source": [
    "# load data\n",
    "\n",
    "with open('../data/tpb_tweets_news-outlets_20211208.json', \"r\") as outfile:\n",
    "    all_data = json.load(outfile)"
   ]
  },
  {
   "cell_type": "code",
   "execution_count": 3,
   "metadata": {
    "execution": {
     "iopub.execute_input": "2022-03-08T12:33:28.485427Z",
     "iopub.status.busy": "2022-03-08T12:33:28.484889Z",
     "iopub.status.idle": "2022-03-08T12:33:28.496202Z",
     "shell.execute_reply": "2022-03-08T12:33:28.495445Z",
     "shell.execute_reply.started": "2022-03-08T12:33:28.485370Z"
    },
    "tags": []
   },
   "outputs": [],
   "source": [
    "regex_string_covid = r\"\\b#pandemic\\b|\\b#covid\\b|\\b#covid-19\\b|\\bpandemic\\b|\\bcovid\\b|\\bcovid-19\\b|\\bcorona|\\bvaccine|\\bquarantine\"\n",
    "regex_string_immigrations = r\"\\b#migrant|\\b#refugee|\\b#transit|\\b#displacement\\b|\\b#border|\\b#return\\b|\\b#pushback|\\b#boat|\\b#drowning\\b|\\b#hunger\\b|\\bmigrant|\\brefugee|\\btransit|\\bdisplacement\\b|\\bborder|\\breturn\\b|\\bpushback|\\bboat|\\bdrowning\\b|\\bhunger\"\n",
    "regex_string_geos = r\"\\blebanon\\b|\\blebanese\\b|\\bsyria|\\bjordan|\\biraq|\\bgreece\\b|\\bgreek|\\bturkey\\b|\\bturkish\\b|\\bcyprus\\b|\\bcypriot|\\bmediterranean\\b|\\bEU\\b|\\btunisia|\\bitaly\\b|\\bitalian\\b|\\beuropean\\b\"\n",
    "\n",
    "regex_covid = re.compile(regex_string_covid, re.IGNORECASE)\n",
    "regex_immigrations = re.compile(regex_string_immigrations, re.IGNORECASE)\n",
    "regex_geos = re.compile(regex_string_geos, re.IGNORECASE)"
   ]
  },
  {
   "cell_type": "code",
   "execution_count": 4,
   "metadata": {
    "execution": {
     "iopub.execute_input": "2022-03-08T12:33:40.772704Z",
     "iopub.status.busy": "2022-03-08T12:33:40.772505Z",
     "iopub.status.idle": "2022-03-08T12:33:44.307863Z",
     "shell.execute_reply": "2022-03-08T12:33:44.307248Z",
     "shell.execute_reply.started": "2022-03-08T12:33:40.772682Z"
    },
    "tags": []
   },
   "outputs": [
    {
     "data": {
      "text/plain": [
       "387"
      ]
     },
     "execution_count": 4,
     "metadata": {},
     "output_type": "execute_result"
    }
   ],
   "source": [
    "# applying different filters\n",
    "\n",
    "## all filters\n",
    "data_filter_cig = []\n",
    "\n",
    "for entry in all_data.get('data'):\n",
    "    if regex_covid.search(entry.get('text')) and regex_immigrations.search(entry.get('text')) and regex_geos.search(entry.get('text')):\n",
    "        data_filter_cig.append(entry)\n",
    "len(data_filter_cig)"
   ]
  },
  {
   "cell_type": "code",
   "execution_count": 5,
   "metadata": {
    "execution": {
     "iopub.execute_input": "2022-03-08T12:34:06.973387Z",
     "iopub.status.busy": "2022-03-08T12:34:06.972869Z",
     "iopub.status.idle": "2022-03-08T12:34:11.887090Z",
     "shell.execute_reply": "2022-03-08T12:34:11.886373Z",
     "shell.execute_reply.started": "2022-03-08T12:34:06.973329Z"
    },
    "tags": []
   },
   "outputs": [
    {
     "data": {
      "text/plain": [
       "3516"
      ]
     },
     "execution_count": 5,
     "metadata": {},
     "output_type": "execute_result"
    }
   ],
   "source": [
    "## immigration and geos\n",
    "data_filter_ig = []\n",
    "\n",
    "for entry in all_data.get('data'):\n",
    "    if regex_immigrations.search(entry.get('text')) and regex_geos.search(entry.get('text')):\n",
    "        data_filter_ig.append(entry)\n",
    "len(data_filter_ig)"
   ]
  },
  {
   "cell_type": "code",
   "execution_count": 15,
   "metadata": {
    "execution": {
     "iopub.execute_input": "2022-02-28T13:28:28.555873Z",
     "iopub.status.busy": "2022-02-28T13:28:28.555340Z",
     "iopub.status.idle": "2022-02-28T13:28:31.464277Z",
     "shell.execute_reply": "2022-02-28T13:28:31.463697Z",
     "shell.execute_reply.started": "2022-02-28T13:28:28.555804Z"
    }
   },
   "outputs": [
    {
     "data": {
      "text/plain": [
       "1129"
      ]
     },
     "execution_count": 15,
     "metadata": {},
     "output_type": "execute_result"
    }
   ],
   "source": [
    "## immigration and covid\n",
    "data_filter_ci = []\n",
    "\n",
    "for entry in all_data.get('data'):\n",
    "    if regex_covid.search(entry.get('text')) and regex_immigrations.search(entry.get('text')):\n",
    "        data_filter_ci.append(entry)\n",
    "len(data_filter_ci)"
   ]
  },
  {
   "cell_type": "code",
   "execution_count": 16,
   "metadata": {
    "execution": {
     "iopub.execute_input": "2022-02-28T13:29:15.047313Z",
     "iopub.status.busy": "2022-02-28T13:29:15.046772Z",
     "iopub.status.idle": "2022-02-28T13:29:19.922181Z",
     "shell.execute_reply": "2022-02-28T13:29:19.921471Z",
     "shell.execute_reply.started": "2022-02-28T13:29:15.047257Z"
    }
   },
   "outputs": [
    {
     "data": {
      "text/plain": [
       "13157"
      ]
     },
     "execution_count": 16,
     "metadata": {},
     "output_type": "execute_result"
    }
   ],
   "source": [
    "## immigration only\n",
    "data_filter_i = []\n",
    "\n",
    "for entry in all_data.get('data'):\n",
    "    if regex_immigrations.search(entry.get('text')):\n",
    "        data_filter_i.append(entry)\n",
    "len(data_filter_i)"
   ]
  },
  {
   "cell_type": "code",
   "execution_count": 17,
   "metadata": {
    "execution": {
     "iopub.execute_input": "2022-02-28T13:29:35.394072Z",
     "iopub.status.busy": "2022-02-28T13:29:35.393536Z",
     "iopub.status.idle": "2022-02-28T13:29:40.306147Z",
     "shell.execute_reply": "2022-02-28T13:29:40.305544Z",
     "shell.execute_reply.started": "2022-02-28T13:29:35.394017Z"
    }
   },
   "outputs": [
    {
     "data": {
      "text/plain": [
       "14197"
      ]
     },
     "execution_count": 17,
     "metadata": {},
     "output_type": "execute_result"
    }
   ],
   "source": [
    "## geos only\n",
    "data_filter_g = []\n",
    "\n",
    "for entry in all_data.get('data'):\n",
    "    if regex_geos.search(entry.get('text')):\n",
    "        data_filter_g.append(entry)\n",
    "len(data_filter_g)"
   ]
  },
  {
   "cell_type": "code",
   "execution_count": 18,
   "metadata": {
    "execution": {
     "iopub.execute_input": "2022-02-28T13:30:01.758536Z",
     "iopub.status.busy": "2022-02-28T13:30:01.758024Z",
     "iopub.status.idle": "2022-02-28T13:30:11.250402Z",
     "shell.execute_reply": "2022-02-28T13:30:11.249626Z",
     "shell.execute_reply.started": "2022-02-28T13:30:01.758483Z"
    }
   },
   "outputs": [
    {
     "data": {
      "text/plain": [
       "25234"
      ]
     },
     "execution_count": 18,
     "metadata": {},
     "output_type": "execute_result"
    }
   ],
   "source": [
    "## immigration or geo\n",
    "data_filter_iorg = []\n",
    "\n",
    "for entry in all_data.get('data'):\n",
    "    if regex_immigrations.search(entry.get('text')) or regex_geos.search(entry.get('text')):\n",
    "        data_filter_iorg.append(entry)\n",
    "len(data_filter_iorg)"
   ]
  },
  {
   "cell_type": "code",
   "execution_count": 19,
   "metadata": {
    "execution": {
     "iopub.execute_input": "2022-02-28T13:30:48.959523Z",
     "iopub.status.busy": "2022-02-28T13:30:48.959010Z",
     "iopub.status.idle": "2022-02-28T13:30:52.146738Z",
     "shell.execute_reply": "2022-02-28T13:30:52.146101Z",
     "shell.execute_reply.started": "2022-02-28T13:30:48.959469Z"
    }
   },
   "outputs": [
    {
     "data": {
      "text/plain": [
       "2152"
      ]
     },
     "execution_count": 19,
     "metadata": {},
     "output_type": "execute_result"
    }
   ],
   "source": [
    "## covid and immigration or geo\n",
    "data_filter_ciorg = []\n",
    "\n",
    "for entry in all_data.get('data'):\n",
    "    if regex_covid.search(entry.get('text')) and (regex_immigrations.search(entry.get('text')) or regex_geos.search(entry.get('text'))):\n",
    "        data_filter_ciorg.append(entry)\n",
    "len(data_filter_ciorg)"
   ]
  },
  {
   "cell_type": "code",
   "execution_count": 7,
   "metadata": {
    "execution": {
     "iopub.execute_input": "2022-02-28T13:11:08.569255Z",
     "iopub.status.busy": "2022-02-28T13:11:08.569078Z",
     "iopub.status.idle": "2022-02-28T13:11:08.717502Z",
     "shell.execute_reply": "2022-02-28T13:11:08.716831Z",
     "shell.execute_reply.started": "2022-02-28T13:11:08.569237Z"
    },
    "tags": []
   },
   "outputs": [],
   "source": [
    "# Convert data to df\n",
    "\n",
    "df_tweets = pd.DataFrame.from_records(data_filtered)\n",
    "df_users = pd.DataFrame.from_records(all_data.get('includes').get('users'))"
   ]
  },
  {
   "cell_type": "code",
   "execution_count": 8,
   "metadata": {
    "execution": {
     "iopub.execute_input": "2022-02-28T13:11:08.718708Z",
     "iopub.status.busy": "2022-02-28T13:11:08.718527Z",
     "iopub.status.idle": "2022-02-28T13:11:08.727799Z",
     "shell.execute_reply": "2022-02-28T13:11:08.727139Z",
     "shell.execute_reply.started": "2022-02-28T13:11:08.718689Z"
    },
    "tags": []
   },
   "outputs": [],
   "source": [
    "# Functions for unnesting\n",
    "\n",
    "def fix_dicts(string):\n",
    "    if string is np.nan:\n",
    "        return(string)\n",
    "    if not isinstance(string, dict):\n",
    "        string_as_dict = ast.literal_eval(string)\n",
    "        return(string_as_dict)\n",
    "    else:\n",
    "        return(string)\n",
    "\n",
    "def unnest_hashtags(entities):\n",
    "    try:\n",
    "        hashtags = list(entities.get('hashtags'))\n",
    "    except:\n",
    "        return(list())\n",
    "    if isinstance(hashtags, list):\n",
    "        hashtags_list = [hashtag.get('tag') for hashtag in hashtags]\n",
    "        return(hashtags_list)\n",
    "    else:\n",
    "        return\n",
    "    \n",
    "def unnest_mentions(entities):\n",
    "    try:\n",
    "        mentions = list(entities.get('mentions'))\n",
    "    except:\n",
    "        return(list())\n",
    "    if isinstance(mentions, list):\n",
    "        mentions_list = [mention.get('username') for mention in mentions]\n",
    "        return(mentions_list)\n",
    "    else:\n",
    "        return\n",
    "\n",
    "def unnest_urls(entities):\n",
    "    try:\n",
    "        urls = list(entities.get('urls'))\n",
    "    except:\n",
    "        return(list())\n",
    "    if isinstance(urls, list):\n",
    "        urls_list = [url.get('url') for url in urls]\n",
    "        return(urls_list)\n",
    "    else:\n",
    "        return\n",
    "    \n",
    "def unnest_cashtags(entities):\n",
    "    try:\n",
    "        cashtags = list(entities.get('cashtags'))\n",
    "    except:\n",
    "        return(list())\n",
    "    if isinstance(cashtags, list):\n",
    "        cashtags_list = [cashtag.get('tag') for cashtag in cashtags]\n",
    "        return(cashtags_list)\n",
    "    else:\n",
    "        return"
   ]
  },
  {
   "cell_type": "code",
   "execution_count": 9,
   "metadata": {
    "execution": {
     "iopub.execute_input": "2022-02-28T13:11:08.728657Z",
     "iopub.status.busy": "2022-02-28T13:11:08.728517Z",
     "iopub.status.idle": "2022-02-28T13:11:08.757837Z",
     "shell.execute_reply": "2022-02-28T13:11:08.757099Z",
     "shell.execute_reply.started": "2022-02-28T13:11:08.728641Z"
    },
    "tags": []
   },
   "outputs": [],
   "source": [
    "# Functions for wrangling data frame\n",
    "\n",
    "def wrangle_df_tweets(df, drop_cols):\n",
    "    \n",
    "    # Fix dictionaries\n",
    "    df['public_metrics'] = df['public_metrics'].apply(fix_dicts)\n",
    "    df['entities'] = df['entities'].apply(fix_dicts)\n",
    "    \n",
    "    # Unnest\n",
    "    df = pd.concat([df, pd.json_normalize(df['public_metrics'])], axis = 1)\n",
    "    df['hashtags'] = df['entities'].apply(unnest_hashtags)\n",
    "    df['mentions'] = df['entities'].apply(unnest_mentions)\n",
    "    df['urls'] = df['entities'].apply(unnest_urls)\n",
    "    df['cashtags'] = df['entities'].apply(unnest_cashtags)\n",
    "    df = df.loc[:, ~df.columns.isin(drop_cols)]\n",
    "    \n",
    "    return(df)\n",
    "\n",
    "def wrangle_df_users(df, drop_cols):\n",
    "    \n",
    "    # Fix dicts\n",
    "    df['public_metrics'] = df['public_metrics'].apply(fix_dicts)\n",
    "    \n",
    "    # Unnest\n",
    "    df = pd.concat([df, pd.json_normalize(df['public_metrics'])], axis = 1)\n",
    "    df = df.rename(columns = {'id': 'author_id', 'created_at': 'author_created_at'})\n",
    "    df = df.loc[:, ~df.columns.isin(drop_cols)]\n",
    "    \n",
    "    return(df)"
   ]
  },
  {
   "cell_type": "code",
   "execution_count": 10,
   "metadata": {
    "execution": {
     "iopub.execute_input": "2022-02-28T13:11:08.758866Z",
     "iopub.status.busy": "2022-02-28T13:11:08.758681Z",
     "iopub.status.idle": "2022-02-28T13:11:09.356631Z",
     "shell.execute_reply": "2022-02-28T13:11:09.355975Z",
     "shell.execute_reply.started": "2022-02-28T13:11:08.758845Z"
    },
    "tags": []
   },
   "outputs": [],
   "source": [
    "# Wrangle data frame\n",
    "\n",
    "drop_cols = ['public_metrics', 'entities']\n",
    "\n",
    "df_tweets_unnest = wrangle_df_tweets(df_tweets, drop_cols)\n",
    "df_users_unnest = wrangle_df_users(df_users, drop_cols)"
   ]
  },
  {
   "cell_type": "code",
   "execution_count": 11,
   "metadata": {
    "execution": {
     "iopub.execute_input": "2022-02-28T13:11:09.357582Z",
     "iopub.status.busy": "2022-02-28T13:11:09.357432Z",
     "iopub.status.idle": "2022-02-28T13:11:28.049336Z",
     "shell.execute_reply": "2022-02-28T13:11:28.048512Z",
     "shell.execute_reply.started": "2022-02-28T13:11:09.357565Z"
    },
    "tags": []
   },
   "outputs": [
    {
     "data": {
      "text/html": [
       "<div>\n",
       "<style scoped>\n",
       "    .dataframe tbody tr th:only-of-type {\n",
       "        vertical-align: middle;\n",
       "    }\n",
       "\n",
       "    .dataframe tbody tr th {\n",
       "        vertical-align: top;\n",
       "    }\n",
       "\n",
       "    .dataframe thead th {\n",
       "        text-align: right;\n",
       "    }\n",
       "</style>\n",
       "<table border=\"1\" class=\"dataframe\">\n",
       "  <thead>\n",
       "    <tr style=\"text-align: right;\">\n",
       "      <th></th>\n",
       "      <th>created_at</th>\n",
       "      <th>text</th>\n",
       "      <th>id</th>\n",
       "      <th>author_id</th>\n",
       "      <th>referenced_tweets</th>\n",
       "      <th>retweet_count</th>\n",
       "      <th>reply_count</th>\n",
       "      <th>like_count</th>\n",
       "      <th>quote_count</th>\n",
       "      <th>hashtags</th>\n",
       "      <th>...</th>\n",
       "      <th>description</th>\n",
       "      <th>verified</th>\n",
       "      <th>name</th>\n",
       "      <th>url</th>\n",
       "      <th>username</th>\n",
       "      <th>author_created_at</th>\n",
       "      <th>followers_count</th>\n",
       "      <th>following_count</th>\n",
       "      <th>tweet_count</th>\n",
       "      <th>listed_count</th>\n",
       "    </tr>\n",
       "  </thead>\n",
       "  <tbody>\n",
       "    <tr>\n",
       "      <th>0</th>\n",
       "      <td>2021-12-07T23:50:06.000Z</td>\n",
       "      <td>A U.S. judge on Tuesday blocked the Biden admi...</td>\n",
       "      <td>1468367242064760841</td>\n",
       "      <td>3108351</td>\n",
       "      <td>NaN</td>\n",
       "      <td>41</td>\n",
       "      <td>12</td>\n",
       "      <td>111</td>\n",
       "      <td>3</td>\n",
       "      <td>[]</td>\n",
       "      <td>...</td>\n",
       "      <td>Sign up for our newsletters and email alerts: ...</td>\n",
       "      <td>True</td>\n",
       "      <td>The Wall Street Journal</td>\n",
       "      <td>https://t.co/GhhR6PLfem</td>\n",
       "      <td>WSJ</td>\n",
       "      <td>2007-04-01T06:22:13.000Z</td>\n",
       "      <td>19263346</td>\n",
       "      <td>1046</td>\n",
       "      <td>357831</td>\n",
       "      <td>122904</td>\n",
       "    </tr>\n",
       "    <tr>\n",
       "      <th>848</th>\n",
       "      <td>2021-12-07T23:18:46.000Z</td>\n",
       "      <td>Analysis: The wide and dangerous gap between T...</td>\n",
       "      <td>1468359359080054784</td>\n",
       "      <td>2467791</td>\n",
       "      <td>NaN</td>\n",
       "      <td>44</td>\n",
       "      <td>33</td>\n",
       "      <td>114</td>\n",
       "      <td>1</td>\n",
       "      <td>[]</td>\n",
       "      <td>...</td>\n",
       "      <td>Democracy Dies in Darkness</td>\n",
       "      <td>True</td>\n",
       "      <td>The Washington Post</td>\n",
       "      <td>https://t.co/1KN78z0bbe</td>\n",
       "      <td>washingtonpost</td>\n",
       "      <td>2007-03-27T11:19:39.000Z</td>\n",
       "      <td>18516470</td>\n",
       "      <td>1715</td>\n",
       "      <td>412041</td>\n",
       "      <td>2</td>\n",
       "    </tr>\n",
       "    <tr>\n",
       "      <th>1632</th>\n",
       "      <td>2021-12-07T23:00:47.000Z</td>\n",
       "      <td>Why are many pregnant women hesitant to take t...</td>\n",
       "      <td>1468354833719697427</td>\n",
       "      <td>4970411</td>\n",
       "      <td>NaN</td>\n",
       "      <td>16</td>\n",
       "      <td>5</td>\n",
       "      <td>34</td>\n",
       "      <td>1</td>\n",
       "      <td>[]</td>\n",
       "      <td>...</td>\n",
       "      <td>Hear the human story and join the discussion. ...</td>\n",
       "      <td>True</td>\n",
       "      <td>Al Jazeera English</td>\n",
       "      <td>https://t.co/fDSF1GNVXl</td>\n",
       "      <td>AJEnglish</td>\n",
       "      <td>2007-04-17T08:23:08.000Z</td>\n",
       "      <td>7292176</td>\n",
       "      <td>238</td>\n",
       "      <td>293680</td>\n",
       "      <td>54442</td>\n",
       "    </tr>\n",
       "    <tr>\n",
       "      <th>2387</th>\n",
       "      <td>2021-12-07T22:15:08.000Z</td>\n",
       "      <td>While much is still unknown about the Omicron ...</td>\n",
       "      <td>1468343345642618884</td>\n",
       "      <td>807095</td>\n",
       "      <td>NaN</td>\n",
       "      <td>59</td>\n",
       "      <td>94</td>\n",
       "      <td>192</td>\n",
       "      <td>7</td>\n",
       "      <td>[]</td>\n",
       "      <td>...</td>\n",
       "      <td>News tips? Share them here: https://t.co/ghL9O...</td>\n",
       "      <td>True</td>\n",
       "      <td>The New York Times</td>\n",
       "      <td>http://t.co/ahvuWqicF9</td>\n",
       "      <td>nytimes</td>\n",
       "      <td>2007-03-02T20:41:42.000Z</td>\n",
       "      <td>51136117</td>\n",
       "      <td>860</td>\n",
       "      <td>455829</td>\n",
       "      <td>211884</td>\n",
       "    </tr>\n",
       "    <tr>\n",
       "      <th>3158</th>\n",
       "      <td>2021-12-07T21:56:04.000Z</td>\n",
       "      <td>6/ What has played out in Lower Manhattan amon...</td>\n",
       "      <td>1468338544582316037</td>\n",
       "      <td>807095</td>\n",
       "      <td>[{'type': 'replied_to', 'id': '146833854276188...</td>\n",
       "      <td>3</td>\n",
       "      <td>1</td>\n",
       "      <td>10</td>\n",
       "      <td>0</td>\n",
       "      <td>[]</td>\n",
       "      <td>...</td>\n",
       "      <td>News tips? Share them here: https://t.co/ghL9O...</td>\n",
       "      <td>True</td>\n",
       "      <td>The New York Times</td>\n",
       "      <td>http://t.co/ahvuWqicF9</td>\n",
       "      <td>nytimes</td>\n",
       "      <td>2007-03-02T20:41:42.000Z</td>\n",
       "      <td>51136117</td>\n",
       "      <td>860</td>\n",
       "      <td>455829</td>\n",
       "      <td>211884</td>\n",
       "    </tr>\n",
       "  </tbody>\n",
       "</table>\n",
       "<p>5 rows × 23 columns</p>\n",
       "</div>"
      ],
      "text/plain": [
       "                    created_at  \\\n",
       "0     2021-12-07T23:50:06.000Z   \n",
       "848   2021-12-07T23:18:46.000Z   \n",
       "1632  2021-12-07T23:00:47.000Z   \n",
       "2387  2021-12-07T22:15:08.000Z   \n",
       "3158  2021-12-07T21:56:04.000Z   \n",
       "\n",
       "                                                   text                   id  \\\n",
       "0     A U.S. judge on Tuesday blocked the Biden admi...  1468367242064760841   \n",
       "848   Analysis: The wide and dangerous gap between T...  1468359359080054784   \n",
       "1632  Why are many pregnant women hesitant to take t...  1468354833719697427   \n",
       "2387  While much is still unknown about the Omicron ...  1468343345642618884   \n",
       "3158  6/ What has played out in Lower Manhattan amon...  1468338544582316037   \n",
       "\n",
       "     author_id                                  referenced_tweets  \\\n",
       "0      3108351                                                NaN   \n",
       "848    2467791                                                NaN   \n",
       "1632   4970411                                                NaN   \n",
       "2387    807095                                                NaN   \n",
       "3158    807095  [{'type': 'replied_to', 'id': '146833854276188...   \n",
       "\n",
       "      retweet_count  reply_count  like_count  quote_count hashtags  ...  \\\n",
       "0                41           12         111            3       []  ...   \n",
       "848              44           33         114            1       []  ...   \n",
       "1632             16            5          34            1       []  ...   \n",
       "2387             59           94         192            7       []  ...   \n",
       "3158              3            1          10            0       []  ...   \n",
       "\n",
       "                                            description verified  \\\n",
       "0     Sign up for our newsletters and email alerts: ...     True   \n",
       "848                          Democracy Dies in Darkness     True   \n",
       "1632  Hear the human story and join the discussion. ...     True   \n",
       "2387  News tips? Share them here: https://t.co/ghL9O...     True   \n",
       "3158  News tips? Share them here: https://t.co/ghL9O...     True   \n",
       "\n",
       "                         name                      url        username  \\\n",
       "0     The Wall Street Journal  https://t.co/GhhR6PLfem             WSJ   \n",
       "848       The Washington Post  https://t.co/1KN78z0bbe  washingtonpost   \n",
       "1632       Al Jazeera English  https://t.co/fDSF1GNVXl       AJEnglish   \n",
       "2387       The New York Times   http://t.co/ahvuWqicF9         nytimes   \n",
       "3158       The New York Times   http://t.co/ahvuWqicF9         nytimes   \n",
       "\n",
       "             author_created_at followers_count following_count tweet_count  \\\n",
       "0     2007-04-01T06:22:13.000Z        19263346            1046      357831   \n",
       "848   2007-03-27T11:19:39.000Z        18516470            1715      412041   \n",
       "1632  2007-04-17T08:23:08.000Z         7292176             238      293680   \n",
       "2387  2007-03-02T20:41:42.000Z        51136117             860      455829   \n",
       "3158  2007-03-02T20:41:42.000Z        51136117             860      455829   \n",
       "\n",
       "      listed_count  \n",
       "0           122904  \n",
       "848              2  \n",
       "1632         54442  \n",
       "2387        211884  \n",
       "3158        211884  \n",
       "\n",
       "[5 rows x 23 columns]"
      ]
     },
     "execution_count": 11,
     "metadata": {},
     "output_type": "execute_result"
    }
   ],
   "source": [
    "# Combine data with pd.merge\n",
    "\n",
    "df_combined = pd.merge(df_tweets_unnest, df_users_unnest, how = 'left', left_on = 'author_id', right_on = 'author_id').drop_duplicates(subset = ['id'])\n",
    "df_combined.head()"
   ]
  },
  {
   "cell_type": "code",
   "execution_count": null,
   "metadata": {},
   "outputs": [],
   "source": []
  }
 ],
 "metadata": {
  "kernelspec": {
   "display_name": "Python 3.8, tm",
   "language": "python",
   "name": "tmenv"
  },
  "language_info": {
   "codemirror_mode": {
    "name": "ipython",
    "version": 3
   },
   "file_extension": ".py",
   "mimetype": "text/x-python",
   "name": "python",
   "nbconvert_exporter": "python",
   "pygments_lexer": "ipython3",
   "version": "3.8.10"
  }
 },
 "nbformat": 4,
 "nbformat_minor": 4
}
