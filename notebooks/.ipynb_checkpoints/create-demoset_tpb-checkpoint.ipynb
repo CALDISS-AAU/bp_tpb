{
 "cells": [
  {
   "cell_type": "code",
   "execution_count": 1,
   "id": "6e897e33-ffd9-433f-9a4c-c9b537157bfe",
   "metadata": {
    "execution": {
     "iopub.execute_input": "2022-02-03T12:29:56.954547Z",
     "iopub.status.busy": "2022-02-03T12:29:56.954054Z",
     "iopub.status.idle": "2022-02-03T12:29:57.196404Z",
     "shell.execute_reply": "2022-02-03T12:29:57.195563Z",
     "shell.execute_reply.started": "2022-02-03T12:29:56.954497Z"
    }
   },
   "outputs": [],
   "source": [
    "# Import packages\n",
    "import pandas as pd\n",
    "import ast \n",
    "import numpy as np\n",
    "import json\n",
    "import re\n",
    "import os\n",
    "\n",
    "data_dir = os.path.join(\"..\", \"data\")\n",
    "data_path = os.path.join(data_dir, \"tpb_df.csv\")"
   ]
  },
  {
   "cell_type": "code",
   "execution_count": 2,
   "id": "cac805cc-ff29-476a-aaef-ad3963184023",
   "metadata": {
    "execution": {
     "iopub.execute_input": "2022-02-03T13:21:08.598548Z",
     "iopub.status.busy": "2022-02-03T13:21:08.598056Z",
     "iopub.status.idle": "2022-02-03T13:21:08.606778Z",
     "shell.execute_reply": "2022-02-03T13:21:08.605610Z",
     "shell.execute_reply.started": "2022-02-03T13:21:08.598499Z"
    }
   },
   "outputs": [],
   "source": [
    "# regex patterns\n",
    "\n",
    "geolist = [\"lebanon\", \"syria\", \"jordan\", \"iraq\", \"greece\", \"turkey\", \"cyprus\", \"mediterranean\", \"EU\"]\n",
    "wordlist = [\"migrant\", \"refugee\", \"transit\", \"displacement\", \"border\", \"return\", \"pushback\", \"boat\", \"drowning\", \"hunger\"]\n",
    "\n",
    "regex_geo = re.compile(\"|\".join([f\"\\\\b{geo}\\\\b\" for geo in geolist]), re.IGNORECASE)\n",
    "regex_words = re.compile(\"|\".join([f\"\\\\b{word}\" for word in wordlist]), re.IGNORECASE)\n",
    "regex_hashtags = re.compile(\"|\".join([f\"\\\\b#{word}\" for word in wordlist]), re.IGNORECASE)"
   ]
  },
  {
   "cell_type": "code",
   "execution_count": 59,
   "id": "73b4f8a5-a7ba-4006-821a-57a0a35440ef",
   "metadata": {
    "execution": {
     "iopub.execute_input": "2022-02-03T14:01:34.785193Z",
     "iopub.status.busy": "2022-02-03T14:01:34.784635Z",
     "iopub.status.idle": "2022-02-03T14:01:35.653164Z",
     "shell.execute_reply": "2022-02-03T14:01:35.652472Z",
     "shell.execute_reply.started": "2022-02-03T14:01:34.785143Z"
    },
    "tags": []
   },
   "outputs": [],
   "source": [
    "# create subset\n",
    "\n",
    "df = pd.read_csv(data_path)\n",
    "\n",
    "keep_columns = ['created_at', 'name', 'text', 'hashtags', 'urls', 'retweet_count', \n",
    "                'reply_count', 'like_count', 'quote_count']\n",
    "\n",
    "df_sub = df.loc[df['text'].apply(lambda t: (bool(regex_words.search(t)) or bool(regex_hashtags.search(t))) and bool(regex_geo.search(t))), keep_columns]"
   ]
  },
  {
   "cell_type": "code",
   "execution_count": 60,
   "id": "487a79a2-8773-4218-ab7a-e8a6378b2945",
   "metadata": {
    "execution": {
     "iopub.execute_input": "2022-02-03T14:01:35.662917Z",
     "iopub.status.busy": "2022-02-03T14:01:35.662794Z",
     "iopub.status.idle": "2022-02-03T14:01:35.667166Z",
     "shell.execute_reply": "2022-02-03T14:01:35.666640Z",
     "shell.execute_reply.started": "2022-02-03T14:01:35.662904Z"
    },
    "tags": []
   },
   "outputs": [
    {
     "name": "stdout",
     "output_type": "stream",
     "text": [
      "(39049, 23) (1414, 9)\n"
     ]
    }
   ],
   "source": [
    "# comparison \n",
    "\n",
    "print(df.shape,\n",
    "      df_sub.shape)"
   ]
  },
  {
   "cell_type": "code",
   "execution_count": 61,
   "id": "34f54ec4-1b64-4403-8583-7ceeb9f037dd",
   "metadata": {
    "execution": {
     "iopub.execute_input": "2022-02-03T14:01:35.668536Z",
     "iopub.status.busy": "2022-02-03T14:01:35.668408Z",
     "iopub.status.idle": "2022-02-03T14:01:36.064202Z",
     "shell.execute_reply": "2022-02-03T14:01:36.063090Z",
     "shell.execute_reply.started": "2022-02-03T14:01:35.668522Z"
    },
    "tags": []
   },
   "outputs": [],
   "source": [
    "# export\n",
    "\n",
    "df_sub.to_excel(os.path.join(data_dir, \"tpb_tweets_simple-filter.xlsx\"), index = False)"
   ]
  }
 ],
 "metadata": {
  "kernelspec": {
   "display_name": "Python 3 ",
   "language": "python",
   "name": "python3"
  },
  "language_info": {
   "codemirror_mode": {
    "name": "ipython",
    "version": 3
   },
   "file_extension": ".py",
   "mimetype": "text/x-python",
   "name": "python",
   "nbconvert_exporter": "python",
   "pygments_lexer": "ipython3",
   "version": "3.9.6"
  }
 },
 "nbformat": 4,
 "nbformat_minor": 5
}
