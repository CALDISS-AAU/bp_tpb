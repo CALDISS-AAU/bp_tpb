{
 "cells": [
  {
   "cell_type": "code",
   "execution_count": 39,
   "id": "e81142dc-f2a7-46df-bf0c-776a6781e7e4",
   "metadata": {
    "execution": {
     "iopub.execute_input": "2022-04-08T12:15:56.387217Z",
     "iopub.status.busy": "2022-04-08T12:15:56.386700Z",
     "iopub.status.idle": "2022-04-08T12:15:56.394349Z",
     "shell.execute_reply": "2022-04-08T12:15:56.392985Z",
     "shell.execute_reply.started": "2022-04-08T12:15:56.387161Z"
    },
    "tags": []
   },
   "outputs": [],
   "source": [
    "import json\n",
    "import pandas as pd\n",
    "import os\n",
    "\n",
    "data_p = os.path.join('..', 'data', 'tpb_tweets_simple-filter_labelled_20220308.json')\n",
    "data_excel = os.path.join('..', 'data', 'tpb_tweets_simple-filter.xlsx')\n",
    "data_out = os.path.join('..', 'data', 'tpb_tweets_simple-filter_labelled-prodigy-format_20220408.json')"
   ]
  },
  {
   "cell_type": "code",
   "execution_count": 24,
   "id": "f63efe32-026e-4621-a4c4-cec16d9f8b45",
   "metadata": {
    "execution": {
     "iopub.execute_input": "2022-04-08T11:37:08.219624Z",
     "iopub.status.busy": "2022-04-08T11:37:08.219082Z",
     "iopub.status.idle": "2022-04-08T11:37:08.234338Z",
     "shell.execute_reply": "2022-04-08T11:37:08.233714Z",
     "shell.execute_reply.started": "2022-04-08T11:37:08.219577Z"
    },
    "tags": []
   },
   "outputs": [
    {
     "data": {
      "text/plain": [
       "{'id': 1468056419417088000,\n",
       " 'username': 'AJEnglish',\n",
       " 'text': '“Now, supermarkets have become boutiques.”\\n\\nPalestinian refugees in Lebanon’s Shatila camp pushed to the brink amid aid crisis ⤵️ https://t.co/fzjWcNV8Az',\n",
       " 'tweet_link': 'https://twitter.com/AJEnglish/status/1468056419417088003',\n",
       " '_input_hash': -388230415,\n",
       " '_task_hash': 976743313,\n",
       " 'options': [{'id': 'Physical stuckness', 'text': 'Physical stuckness'},\n",
       "  {'id': 'Surrounding precarity and vulnerabilities',\n",
       "   'text': 'Surrounding precarity and vulnerabilities'},\n",
       "  {'id': 'Blocked or derailed mobilities',\n",
       "   'text': 'Blocked or derailed mobilities'},\n",
       "  {'id': 'Pandemic precarity', 'text': 'Pandemic precarity'},\n",
       "  {'id': 'New mobilities', 'text': 'New mobilities'},\n",
       "  {'id': 'Other', 'text': 'Other'}],\n",
       " '_view_id': 'choice',\n",
       " 'accept': ['Surrounding precarity and vulnerabilities'],\n",
       " 'config': {'choice_style': 'single'},\n",
       " 'answer': 'accept',\n",
       " '_timestamp': 1648628028,\n",
       " '_annotator_id': 'tpb_cat-eva',\n",
       " '_session_id': 'tpb_cat-eva'}"
      ]
     },
     "execution_count": 24,
     "metadata": {},
     "output_type": "execute_result"
    }
   ],
   "source": [
    "example = {'id': 1468056419417088000, \n",
    "           'username': 'AJEnglish', \n",
    "           'text': '“Now, supermarkets have become boutiques.”\\n\\nPalestinian refugees in Lebanon’s Shatila camp pushed to the brink amid aid crisis ⤵️ https://t.co/fzjWcNV8Az', \n",
    "           'tweet_link': 'https://twitter.com/AJEnglish/status/1468056419417088003', \n",
    "           '_input_hash': -388230415, \n",
    "           '_task_hash': 976743313, \n",
    "           'options': [{'id': 'Physical stuckness', 'text': 'Physical stuckness'}, \n",
    "                       {'id': 'Surrounding precarity and vulnerabilities', 'text': 'Surrounding precarity and vulnerabilities'}, \n",
    "                       {'id': 'Blocked or derailed mobilities', 'text': 'Blocked or derailed mobilities'}, \n",
    "                       {'id': 'Pandemic precarity', 'text': 'Pandemic precarity'}, \n",
    "                       {'id': 'New mobilities', 'text': 'New mobilities'}, \n",
    "                       {'id': 'Other', 'text': 'Other'}], \n",
    "           '_view_id': 'choice', \n",
    "           'accept': ['Surrounding precarity and vulnerabilities'], \n",
    "           'config': {'choice_style': 'single'}, \n",
    "           'answer': 'accept', \n",
    "           '_timestamp': 1648628028, \n",
    "           '_annotator_id': 'tpb_cat-eva', \n",
    "           '_session_id': 'tpb_cat-eva'}\n",
    "\n",
    "example"
   ]
  },
  {
   "cell_type": "code",
   "execution_count": 2,
   "id": "02076928-2dd1-4d21-b96c-9c382e1e0a02",
   "metadata": {
    "execution": {
     "iopub.execute_input": "2022-04-08T11:53:00.404146Z",
     "iopub.status.busy": "2022-04-08T11:53:00.403715Z",
     "iopub.status.idle": "2022-04-08T11:53:17.112249Z",
     "shell.execute_reply": "2022-04-08T11:53:17.111584Z",
     "shell.execute_reply.started": "2022-04-08T11:53:00.404107Z"
    },
    "tags": []
   },
   "outputs": [],
   "source": [
    "tweets_simple_filt = pd.read_excel(data_excel)"
   ]
  },
  {
   "cell_type": "code",
   "execution_count": 3,
   "id": "c9743a59-890f-436a-8a79-d9ed125a9a4f",
   "metadata": {
    "execution": {
     "iopub.execute_input": "2022-04-08T11:53:17.253213Z",
     "iopub.status.busy": "2022-04-08T11:53:17.253074Z",
     "iopub.status.idle": "2022-04-08T11:53:17.256439Z",
     "shell.execute_reply": "2022-04-08T11:53:17.255900Z",
     "shell.execute_reply.started": "2022-04-08T11:53:17.253196Z"
    },
    "tags": []
   },
   "outputs": [],
   "source": [
    "with open(data_p, 'r') as f:\n",
    "    data = json.load(f)"
   ]
  },
  {
   "cell_type": "code",
   "execution_count": 30,
   "id": "61c9f345-fcb2-456f-82a8-65b97720ca89",
   "metadata": {
    "execution": {
     "iopub.execute_input": "2022-04-08T12:12:01.019764Z",
     "iopub.status.busy": "2022-04-08T12:12:01.019231Z",
     "iopub.status.idle": "2022-04-08T12:12:01.027598Z",
     "shell.execute_reply": "2022-04-08T12:12:01.026495Z",
     "shell.execute_reply.started": "2022-04-08T12:12:01.019708Z"
    },
    "tags": []
   },
   "outputs": [
    {
     "data": {
      "text/plain": [
       "{'created_at': '2021-12-02T15:33:00.000Z',\n",
       " 'name': 'InfoMigrants',\n",
       " 'id': 1466430204302217232,\n",
       " 'label': 'blocked mobilities'}"
      ]
     },
     "execution_count": 30,
     "metadata": {},
     "output_type": "execute_result"
    }
   ],
   "source": [
    "data[0]"
   ]
  },
  {
   "cell_type": "code",
   "execution_count": 35,
   "id": "1acc9f0f-4a06-4b25-9a41-40dd510b5611",
   "metadata": {
    "execution": {
     "iopub.execute_input": "2022-04-08T12:14:16.753461Z",
     "iopub.status.busy": "2022-04-08T12:14:16.753229Z",
     "iopub.status.idle": "2022-04-08T12:14:16.841163Z",
     "shell.execute_reply": "2022-04-08T12:14:16.840447Z",
     "shell.execute_reply.started": "2022-04-08T12:14:16.753434Z"
    },
    "tags": []
   },
   "outputs": [],
   "source": [
    "data_notlabelled = tweets_simple_filt.loc[~tweets_simple_filt['id'].isin([entry.get('id') for entry in data]), ['username', 'text', 'id']]\n",
    "data_notlabelled = data_notlabelled.to_dict(orient = 'records')"
   ]
  },
  {
   "cell_type": "code",
   "execution_count": 28,
   "id": "74a5c948-1f2f-4ab5-826d-8bad6c2024c3",
   "metadata": {
    "execution": {
     "iopub.execute_input": "2022-04-08T12:11:54.624117Z",
     "iopub.status.busy": "2022-04-08T12:11:54.623590Z",
     "iopub.status.idle": "2022-04-08T12:11:54.631649Z",
     "shell.execute_reply": "2022-04-08T12:11:54.630804Z",
     "shell.execute_reply.started": "2022-04-08T12:11:54.624061Z"
    },
    "tags": []
   },
   "outputs": [
    {
     "data": {
      "text/plain": [
       "{'username': 'AJEnglish',\n",
       " 'text': 'RT @AJEnglish: Libyan authorities get support from the EU to stop migrants from crossing the Mediterranean, often sending them to abusive d…',\n",
       " 'id': 1468238862770216960}"
      ]
     },
     "execution_count": 28,
     "metadata": {},
     "output_type": "execute_result"
    }
   ],
   "source": [
    "data_notlabelled[0]"
   ]
  },
  {
   "cell_type": "code",
   "execution_count": 34,
   "id": "8ce5900d-7d7b-4f7f-a6e2-1a3edc5c9ee1",
   "metadata": {
    "execution": {
     "iopub.execute_input": "2022-04-08T12:14:16.637604Z",
     "iopub.status.busy": "2022-04-08T12:14:16.637286Z",
     "iopub.status.idle": "2022-04-08T12:14:16.715066Z",
     "shell.execute_reply": "2022-04-08T12:14:16.714413Z",
     "shell.execute_reply.started": "2022-04-08T12:14:16.637572Z"
    },
    "tags": []
   },
   "outputs": [],
   "source": [
    "data_prodigy = []\n",
    "\n",
    "for entry in data:\n",
    "    new_entry = {}\n",
    "    new_entry['id'] = entry.get('id')\n",
    "    new_entry['username'] = entry.get('name')\n",
    "    new_entry['text'] = list(tweets_simple_filt.loc[tweets_simple_filt['id'] == entry.get('id'), 'text'])[0]\n",
    "    new_entry['options'] =[{'id': 'physical stuckness', 'text': 'physical stuckness'}, \n",
    "                           {'id': 'surrounding precarity and vulnerabilities', 'text': 'surrounding precarity and vulnerabilities'}, \n",
    "                           {'id': 'blocked mobilities', 'text': 'blocked mobilities'}, \n",
    "                           {'id': 'pandemic precarity', 'text': 'pandemic precarity'}, \n",
    "                           {'id': 'new mobilities', 'text': 'new mobilities'}]\n",
    "    new_entry['accept'] = [entry.get('label')]\n",
    "    new_entry['answer'] = 'accept'\n",
    "    \n",
    "    data_prodigy.append(new_entry)"
   ]
  },
  {
   "cell_type": "code",
   "execution_count": 36,
   "id": "ef63d65d-2b2a-4c39-b1f4-05b791515733",
   "metadata": {
    "execution": {
     "iopub.execute_input": "2022-04-08T12:14:16.938814Z",
     "iopub.status.busy": "2022-04-08T12:14:16.938582Z",
     "iopub.status.idle": "2022-04-08T12:14:16.991713Z",
     "shell.execute_reply": "2022-04-08T12:14:16.991032Z",
     "shell.execute_reply.started": "2022-04-08T12:14:16.938790Z"
    },
    "tags": []
   },
   "outputs": [],
   "source": [
    "for entry in data_notlabelled:\n",
    "    new_entry = {}\n",
    "    new_entry['id'] = entry.get('id')\n",
    "    new_entry['username'] = entry.get('username')\n",
    "    new_entry['text'] = entry.get('text')\n",
    "    new_entry['options'] =[{'id': 'physical stuckness', 'text': 'physical stuckness'}, \n",
    "                           {'id': 'surrounding precarity and vulnerabilities', 'text': 'surrounding precarity and vulnerabilities'}, \n",
    "                           {'id': 'blocked mobilities', 'text': 'blocked mobilities'}, \n",
    "                           {'id': 'pandemic precarity', 'text': 'pandemic precarity'}, \n",
    "                           {'id': 'new mobilities', 'text': 'new mobilities'}]\n",
    "    new_entry['accept'] = []\n",
    "    new_entry['answer'] = 'ignore'\n",
    "    \n",
    "    data_prodigy.append(new_entry)"
   ]
  },
  {
   "cell_type": "code",
   "execution_count": 41,
   "id": "70097222-23ad-4b54-bfb1-d7791f27c641",
   "metadata": {
    "execution": {
     "iopub.execute_input": "2022-04-08T12:16:06.668804Z",
     "iopub.status.busy": "2022-04-08T12:16:06.668266Z",
     "iopub.status.idle": "2022-04-08T12:16:06.717648Z",
     "shell.execute_reply": "2022-04-08T12:16:06.716975Z",
     "shell.execute_reply.started": "2022-04-08T12:16:06.668749Z"
    },
    "tags": []
   },
   "outputs": [],
   "source": [
    "with open(data_out, 'w') as f:\n",
    "    json.dump(data_prodigy, f)"
   ]
  },
  {
   "cell_type": "code",
   "execution_count": 44,
   "id": "846189d6-b69a-4387-9672-e46a12ef0354",
   "metadata": {
    "execution": {
     "iopub.execute_input": "2022-04-08T13:08:31.468390Z",
     "iopub.status.busy": "2022-04-08T13:08:31.467876Z",
     "iopub.status.idle": "2022-04-08T13:08:31.476200Z",
     "shell.execute_reply": "2022-04-08T13:08:31.475392Z",
     "shell.execute_reply.started": "2022-04-08T13:08:31.468334Z"
    }
   },
   "outputs": [
    {
     "data": {
      "text/plain": [
       "False"
      ]
     },
     "execution_count": 44,
     "metadata": {},
     "output_type": "execute_result"
    }
   ],
   "source": [
    "1468279014120845313 in [entry.get('id') for entry in data]"
   ]
  },
  {
   "cell_type": "code",
   "execution_count": null,
   "id": "55162632-839f-4043-9610-b114426019d7",
   "metadata": {},
   "outputs": [],
   "source": []
  }
 ],
 "metadata": {
  "kernelspec": {
   "display_name": "Python 3.8, tm",
   "language": "python",
   "name": "tmenv"
  },
  "language_info": {
   "codemirror_mode": {
    "name": "ipython",
    "version": 3
   },
   "file_extension": ".py",
   "mimetype": "text/x-python",
   "name": "python",
   "nbconvert_exporter": "python",
   "pygments_lexer": "ipython3",
   "version": "3.8.10"
  }
 },
 "nbformat": 4,
 "nbformat_minor": 5
}
